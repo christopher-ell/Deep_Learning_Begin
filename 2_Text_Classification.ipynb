{
  "nbformat": 4,
  "nbformat_minor": 0,
  "metadata": {
    "colab": {
      "name": "2. Text Classification.ipynb",
      "version": "0.3.2",
      "provenance": [],
      "collapsed_sections": [],
      "include_colab_link": true
    },
    "kernelspec": {
      "name": "python3",
      "display_name": "Python 3"
    }
  },
  "cells": [
    {
      "cell_type": "markdown",
      "metadata": {
        "id": "view-in-github",
        "colab_type": "text"
      },
      "source": [
        "<a href=\"https://colab.research.google.com/github/christopher-ell/Deep_Learning_Begin/blob/master/2_Text_Classification.ipynb\" target=\"_parent\"><img src=\"https://colab.research.google.com/assets/colab-badge.svg\" alt=\"Open In Colab\"/></a>"
      ]
    },
    {
      "metadata": {
        "id": "bk-UgsHItnbD",
        "colab_type": "text"
      },
      "cell_type": "markdown",
      "source": [
        "Source: https://www.tensorflow.org/tutorials/keras/basic_text_classification"
      ]
    },
    {
      "metadata": {
        "id": "O1bCsG0d_-LK",
        "colab_type": "text"
      },
      "cell_type": "markdown",
      "source": [
        "**Summary**\n",
        "\n",
        "1. Import data: Movie reviews as indexes\n",
        "2. extract the data into 4 groups by training and test and data and labels\n",
        "3. Download dictionary that takes words and translates into indexes and reverse, so it takes indexes and outputs\n",
        "    words in new dictionary\n",
        "4. Use the new reverse dictionary to view some of the actual words of the review\n",
        "\n",
        "Prepare Data\n",
        "5. Pad data so that all reviews are same length and can be put into a matrix together\n",
        "\n",
        "Model\n",
        "6. Structure the model making sure to add an embedding layer to translate the indexes into dense vectors of a fixed size. Add global pooling layer to get fixed size output and finally add the dense layers with parameters\n",
        "7. Compile the model telling it how to optimise its parameters and the gradient descent method\n",
        "8. Take a validation dataset from the training data to be used during training\n",
        "9. Train the model feeding input data and labels, specifying epochs and batch size as well as validation data to be used during training\n",
        "10. Evaluate new model on test data\n",
        "11. Plot validation and training data by epoch for model evaluation purposes.\n"
      ]
    },
    {
      "metadata": {
        "id": "D2_MOl6TtOoR",
        "colab_type": "code",
        "outputId": "9e0e5c8a-2d02-4604-bb43-610c8376beda",
        "colab": {
          "base_uri": "https://localhost:8080/",
          "height": 34
        }
      },
      "cell_type": "code",
      "source": [
        "import tensorflow as tf\n",
        "from tensorflow import keras\n",
        "\n",
        "import numpy as np\n",
        "\n",
        "print(tf.__version__)"
      ],
      "execution_count": 0,
      "outputs": [
        {
          "output_type": "stream",
          "text": [
            "1.12.0\n"
          ],
          "name": "stdout"
        }
      ]
    },
    {
      "metadata": {
        "id": "OS887CI6txnz",
        "colab_type": "text"
      },
      "cell_type": "markdown",
      "source": [
        "**Download IMDB Dataset**"
      ]
    },
    {
      "metadata": {
        "id": "fvpBGi42tljw",
        "colab_type": "code",
        "outputId": "477df8a3-084b-4989-f181-4c331eaaf262",
        "colab": {
          "base_uri": "https://localhost:8080/",
          "height": 51
        }
      },
      "cell_type": "code",
      "source": [
        "## Dataset of 25,000 movie reviews from IMDB, labeled by sentiment \n",
        "## (positive/negative) \n",
        "## Each review is encoded as a sequence of word indexes, with each word encoded \n",
        "## by it's frequency, so 3 is the 3rd most frequently used word. This allows\n",
        "## unpopular words to be filtered out.\n",
        "imdb = keras.datasets.imdb\n",
        "\n",
        "## Load test data and training data sets of movie reviews and labels \n",
        "## only include words in the reviews that are up to the 10,000 most used \n",
        "(train_data, train_labels), (test_data, test_labels) = imdb.load_data(num_words=10000)"
      ],
      "execution_count": 0,
      "outputs": [
        {
          "output_type": "stream",
          "text": [
            "Downloading data from https://storage.googleapis.com/tensorflow/tf-keras-datasets/imdb.npz\n",
            "17465344/17464789 [==============================] - 0s 0us/step\n"
          ],
          "name": "stdout"
        }
      ]
    },
    {
      "metadata": {
        "id": "oiUJmdKCt0G9",
        "colab_type": "code",
        "outputId": "25baefb0-6ae5-416f-cfd3-b48ebb238c1a",
        "colab": {
          "base_uri": "https://localhost:8080/",
          "height": 34
        }
      },
      "cell_type": "code",
      "source": [
        "## Print the number of reviews and labels for reviews in the training sets\n",
        "print(\"Training entries: {}, labels: {}\".format(len(train_data), len(train_labels)))"
      ],
      "execution_count": 0,
      "outputs": [
        {
          "output_type": "stream",
          "text": [
            "Training entries: 25000, labels: 25000\n"
          ],
          "name": "stdout"
        }
      ]
    },
    {
      "metadata": {
        "id": "dJRkgUxeurZS",
        "colab_type": "code",
        "outputId": "2be65abc-9032-4e86-fac1-ddaad51d1990",
        "colab": {
          "base_uri": "https://localhost:8080/",
          "height": 54
        }
      },
      "cell_type": "code",
      "source": [
        "## Print the first review in index form\n",
        "print(train_data[0])"
      ],
      "execution_count": 0,
      "outputs": [
        {
          "output_type": "stream",
          "text": [
            "[1, 14, 22, 16, 43, 530, 973, 1622, 1385, 65, 458, 4468, 66, 3941, 4, 173, 36, 256, 5, 25, 100, 43, 838, 112, 50, 670, 2, 9, 35, 480, 284, 5, 150, 4, 172, 112, 167, 2, 336, 385, 39, 4, 172, 4536, 1111, 17, 546, 38, 13, 447, 4, 192, 50, 16, 6, 147, 2025, 19, 14, 22, 4, 1920, 4613, 469, 4, 22, 71, 87, 12, 16, 43, 530, 38, 76, 15, 13, 1247, 4, 22, 17, 515, 17, 12, 16, 626, 18, 2, 5, 62, 386, 12, 8, 316, 8, 106, 5, 4, 2223, 5244, 16, 480, 66, 3785, 33, 4, 130, 12, 16, 38, 619, 5, 25, 124, 51, 36, 135, 48, 25, 1415, 33, 6, 22, 12, 215, 28, 77, 52, 5, 14, 407, 16, 82, 2, 8, 4, 107, 117, 5952, 15, 256, 4, 2, 7, 3766, 5, 723, 36, 71, 43, 530, 476, 26, 400, 317, 46, 7, 4, 2, 1029, 13, 104, 88, 4, 381, 15, 297, 98, 32, 2071, 56, 26, 141, 6, 194, 7486, 18, 4, 226, 22, 21, 134, 476, 26, 480, 5, 144, 30, 5535, 18, 51, 36, 28, 224, 92, 25, 104, 4, 226, 65, 16, 38, 1334, 88, 12, 16, 283, 5, 16, 4472, 113, 103, 32, 15, 16, 5345, 19, 178, 32]\n"
          ],
          "name": "stdout"
        }
      ]
    },
    {
      "metadata": {
        "id": "mUDGoBR_uxYS",
        "colab_type": "code",
        "outputId": "3b1ffcdb-b319-4d2d-a684-92d0403dffc9",
        "colab": {
          "base_uri": "https://localhost:8080/",
          "height": 34
        }
      },
      "cell_type": "code",
      "source": [
        "## Print the length of the first and second reviews\n",
        "len(train_data[0]), len(train_data[1])"
      ],
      "execution_count": 0,
      "outputs": [
        {
          "output_type": "execute_result",
          "data": {
            "text/plain": [
              "(218, 189)"
            ]
          },
          "metadata": {
            "tags": []
          },
          "execution_count": 5
        }
      ]
    },
    {
      "metadata": {
        "id": "TZMsWJtnu_TZ",
        "colab_type": "text"
      },
      "cell_type": "markdown",
      "source": [
        "Convert Integers Back to Words\n",
        "\n"
      ]
    },
    {
      "metadata": {
        "id": "No6gGrlKu69_",
        "colab_type": "code",
        "outputId": "0db28b86-b239-48b4-b3ea-7b38a5f02d56",
        "colab": {
          "base_uri": "https://localhost:8080/",
          "height": 51
        }
      },
      "cell_type": "code",
      "source": [
        "# A dictinary mapping words to an integer index\n",
        "## Dictionar which uses the word as a look up and gives the associated index\n",
        "## Cannot yet be used to convert our index into words because it uses words\n",
        "## to look up rather than indexes\n",
        "word_index = imdb.get_word_index()\n",
        "\n",
        "# The first indicies are reserved\n",
        "## Insert 4 new entries into the dictionary by recreating the dictionary with\n",
        "## the index of every value increased by 3 (k:(v+3)).\n",
        "## As a result values 0-3 are empty and new values can be insirted into them\n",
        "word_index = {k:(v + 3) for k, v in word_index.items()}\n",
        "## Insert new entries for text into values 0-3\n",
        "word_index[\"<PAD>\"] = 0\n",
        "word_index[\"<START>\"] = 1\n",
        "word_index[\"<UNK>\"] = 2  # unknown\n",
        "word_index[\"<UNUSED>\"] = 3\n",
        "\n",
        "## Create a new dictionary that works in reverse to the old one taking in a \n",
        "## word index and outputing a word\n",
        "## Iterate through each item in the original dictionary and put the key as\n",
        "## the value and value as the key in the new dictionary\n",
        "reverse_word_index = dict([(value, key) for (key, value) in word_index.items()])\n",
        "\n",
        "## Loop through each integer index in the text translate it into a word and\n",
        "## attach it to the string.\n",
        "def decode_review(text):\n",
        "  return ' '.join([reverse_word_index.get(i, '?') for i in text])"
      ],
      "execution_count": 0,
      "outputs": [
        {
          "output_type": "stream",
          "text": [
            "Downloading data from https://storage.googleapis.com/tensorflow/tf-keras-datasets/imdb_word_index.json\n",
            "1646592/1641221 [==============================] - 0s 0us/step\n"
          ],
          "name": "stdout"
        }
      ]
    },
    {
      "metadata": {
        "id": "DXHqP-bYwqXJ",
        "colab_type": "code",
        "outputId": "78ce4b3a-ec23-425c-8729-e1d9245d9250",
        "colab": {
          "base_uri": "https://localhost:8080/",
          "height": 54
        }
      },
      "cell_type": "code",
      "source": [
        "## Decode the first review so it can be seen in English\n",
        "decode_review(train_data[0])"
      ],
      "execution_count": 0,
      "outputs": [
        {
          "output_type": "execute_result",
          "data": {
            "text/plain": [
              "\"<START> this film was just brilliant casting location scenery story direction everyone's really suited the part they played and you could just imagine being there robert <UNK> is an amazing actor and now the same being director <UNK> father came from the same scottish island as myself so i loved the fact there was a real connection with this film the witty remarks throughout the film were great it was just brilliant so much that i bought the film as soon as it was released for <UNK> and would recommend it to everyone to watch and the fly fishing was amazing really cried at the end it was so sad and you know what they say if you cry at a film it must have been good and this definitely was also <UNK> to the two little boy's that played the <UNK> of norman and paul they were just brilliant children are often left out of the <UNK> list i think because the stars that play them all grown up are such a big profile for the whole film but these children are amazing and should be praised for what they have done don't you think the whole story was so lovely because it was true and was someone's life after all that was shared with us all\""
            ]
          },
          "metadata": {
            "tags": []
          },
          "execution_count": 7
        }
      ]
    },
    {
      "metadata": {
        "id": "hSqC_qpoxTO4",
        "colab_type": "text"
      },
      "cell_type": "markdown",
      "source": [
        "**Prepare The Data**\n",
        "\n"
      ]
    },
    {
      "metadata": {
        "id": "OvjMRqz4xOA0",
        "colab_type": "code",
        "colab": {}
      },
      "cell_type": "code",
      "source": [
        "## Since each review is a different length they are padded so that they are all \n",
        "## the same so that we can put the reviews together in a matrix of \n",
        "## maxlen * number_of_reviews\n",
        "train_data = keras.preprocessing.sequence.pad_sequences(train_data,\n",
        "                                                       value=word_index[\"<PAD>\"],\n",
        "                                                       padding=\"post\",\n",
        "                                                       maxlen=256)\n",
        "test_data = keras.preprocessing.sequence.pad_sequences(test_data,\n",
        "                                                      value=word_index[\"<PAD>\"],\n",
        "                                                      padding=\"post\",\n",
        "                                                      maxlen=256)"
      ],
      "execution_count": 0,
      "outputs": []
    },
    {
      "metadata": {
        "id": "sCExnzIhyUGn",
        "colab_type": "code",
        "outputId": "509a1c09-aacc-4ac1-8237-b892b38e7f59",
        "colab": {
          "base_uri": "https://localhost:8080/",
          "height": 34
        }
      },
      "cell_type": "code",
      "source": [
        "## Output the length of the first two reviews to ensure they were properly \n",
        "## padded\n",
        "len(train_data[0]), len(train_data[1])"
      ],
      "execution_count": 0,
      "outputs": [
        {
          "output_type": "execute_result",
          "data": {
            "text/plain": [
              "(256, 256)"
            ]
          },
          "metadata": {
            "tags": []
          },
          "execution_count": 9
        }
      ]
    },
    {
      "metadata": {
        "id": "4TjZDdQ_ydOn",
        "colab_type": "code",
        "outputId": "cc7fadfc-69f0-4f43-f194-6cf205c73e5d",
        "colab": {
          "base_uri": "https://localhost:8080/",
          "height": 340
        }
      },
      "cell_type": "code",
      "source": [
        "## Print the first padded review\n",
        "## The padding is carried out by 0's because <pad> is 0 in the dictionary\n",
        "print(train_data[0])"
      ],
      "execution_count": 0,
      "outputs": [
        {
          "output_type": "stream",
          "text": [
            "[   1   14   22   16   43  530  973 1622 1385   65  458 4468   66 3941\n",
            "    4  173   36  256    5   25  100   43  838  112   50  670    2    9\n",
            "   35  480  284    5  150    4  172  112  167    2  336  385   39    4\n",
            "  172 4536 1111   17  546   38   13  447    4  192   50   16    6  147\n",
            " 2025   19   14   22    4 1920 4613  469    4   22   71   87   12   16\n",
            "   43  530   38   76   15   13 1247    4   22   17  515   17   12   16\n",
            "  626   18    2    5   62  386   12    8  316    8  106    5    4 2223\n",
            " 5244   16  480   66 3785   33    4  130   12   16   38  619    5   25\n",
            "  124   51   36  135   48   25 1415   33    6   22   12  215   28   77\n",
            "   52    5   14  407   16   82    2    8    4  107  117 5952   15  256\n",
            "    4    2    7 3766    5  723   36   71   43  530  476   26  400  317\n",
            "   46    7    4    2 1029   13  104   88    4  381   15  297   98   32\n",
            " 2071   56   26  141    6  194 7486   18    4  226   22   21  134  476\n",
            "   26  480    5  144   30 5535   18   51   36   28  224   92   25  104\n",
            "    4  226   65   16   38 1334   88   12   16  283    5   16 4472  113\n",
            "  103   32   15   16 5345   19  178   32    0    0    0    0    0    0\n",
            "    0    0    0    0    0    0    0    0    0    0    0    0    0    0\n",
            "    0    0    0    0    0    0    0    0    0    0    0    0    0    0\n",
            "    0    0    0    0]\n"
          ],
          "name": "stdout"
        }
      ]
    },
    {
      "metadata": {
        "id": "N0U83-BqyvkL",
        "colab_type": "text"
      },
      "cell_type": "markdown",
      "source": [
        "**Build The Model**"
      ]
    },
    {
      "metadata": {
        "id": "ufbiauO4yjQ0",
        "colab_type": "code",
        "outputId": "845de9bc-2771-4dbc-bfc6-4a065d3ccbbc",
        "colab": {
          "base_uri": "https://localhost:8080/",
          "height": 272
        }
      },
      "cell_type": "code",
      "source": [
        "# Input shape is the vocabulary count used for the movie reviews (10,000 words)\n",
        "vocab_size = 10000\n",
        "\n",
        "## Create a neural network by stacking layers\n",
        "model = keras.Sequential()\n",
        "## Embedding turns positive integers (indexes) into dense vectors of a fixed \n",
        "## size.\n",
        "## Here the dense vectors are size 16\n",
        "## Can only take place at the first layer of a model\n",
        "## Vectors learned as model trains\n",
        "model.add(keras.layers.Embedding(vocab_size, 16))\n",
        "## Transforms input into a fixed output vector by averaging over the sequence \n",
        "## dimensions\n",
        "model.add(keras.layers.GlobalAveragePooling1D())\n",
        "## Fully connected dense layer with 16 nodes, trainable parameters \n",
        "## and a non-linear relu activation function at the end\n",
        "model.add(keras.layers.Dense(16, activation=tf.nn.relu))\n",
        "## Fully connected dense layer with 1 node, trainable paramter and a non-linear\n",
        "## sigmoid function\n",
        "# Returns number between 0-1 with probablyity negative or positive\n",
        "model.add(keras.layers.Dense(1, activation=tf.nn.sigmoid))\n",
        "\n",
        "## Summary of model layers, nodes and parameters\n",
        "model.summary()"
      ],
      "execution_count": 0,
      "outputs": [
        {
          "output_type": "stream",
          "text": [
            "_________________________________________________________________\n",
            "Layer (type)                 Output Shape              Param #   \n",
            "=================================================================\n",
            "embedding (Embedding)        (None, None, 16)          160000    \n",
            "_________________________________________________________________\n",
            "global_average_pooling1d (Gl (None, 16)                0         \n",
            "_________________________________________________________________\n",
            "dense (Dense)                (None, 16)                272       \n",
            "_________________________________________________________________\n",
            "dense_1 (Dense)              (None, 1)                 17        \n",
            "=================================================================\n",
            "Total params: 160,289\n",
            "Trainable params: 160,289\n",
            "Non-trainable params: 0\n",
            "_________________________________________________________________\n"
          ],
          "name": "stdout"
        }
      ]
    },
    {
      "metadata": {
        "id": "zmT1lnUkz2N4",
        "colab_type": "code",
        "colab": {}
      },
      "cell_type": "code",
      "source": [
        "## Specifies to the model how to optimize the parameters\n",
        "              ## optimizer is how the model is updated at each iteration\n",
        "model.compile(optimizer = tf.train.AdamOptimizer(),\n",
        "              ## Loss is how the losses are summaed from across all training\n",
        "              ## examples. \n",
        "              ## The optimizer will try to minimize this by changing parameters\n",
        "             loss = 'binary_crossentropy',\n",
        "              ## How the training and testing steps will be monitored. Here it \n",
        "              ## is accuracy which is the fraction of corectly identified images\n",
        "             metrics = ['accuracy'])"
      ],
      "execution_count": 0,
      "outputs": []
    },
    {
      "metadata": {
        "id": "AdaErFPv1a9L",
        "colab_type": "text"
      },
      "cell_type": "markdown",
      "source": [
        "**Create a Validation Set**"
      ]
    },
    {
      "metadata": {
        "id": "IriFnHxn1W1X",
        "colab_type": "code",
        "colab": {}
      },
      "cell_type": "code",
      "source": [
        "## When training we want to check the accuracy on data it hasn't yet seen so \n",
        "## we create a validation set, setting aside 10,000 examples from the training \n",
        "## set\n",
        "\n",
        "## Slice data from the first example to the 10,000th \n",
        "x_val = train_data[:10000]\n",
        "## The remaining training data after removing the first 10,000 examples\n",
        "partial_x_train = train_data[10000:]\n",
        "\n",
        "## Slice data from the first example to the 10,000th \n",
        "y_val = train_labels[:10000]\n",
        "## The remaining training data after removing the first 10,000 examples\n",
        "partial_y_train = train_labels[10000:]"
      ],
      "execution_count": 0,
      "outputs": []
    },
    {
      "metadata": {
        "id": "ywU8I8iM1_4d",
        "colab_type": "text"
      },
      "cell_type": "markdown",
      "source": [
        "**Train The Model**"
      ]
    },
    {
      "metadata": {
        "id": "q-XFu87i1dAI",
        "colab_type": "code",
        "outputId": "914b5be9-6315-41f7-f4bf-225ee39af38e",
        "colab": {
          "base_uri": "https://localhost:8080/",
          "height": 1394
        }
      },
      "cell_type": "code",
      "source": [
        "## Train the model over 40 epochs in minibatches of 512. While training monitor\n",
        "## the models loss accuracy on the validation sets 10,000 examples\n",
        "history = model.fit(partial_x_train,\n",
        "                   partial_y_train,\n",
        "                    ## One epoch is the entire dataset passed forward and\n",
        "                    ## backwards through the neural network once\n",
        "                    ## Since we are using an iterative process like gradient \n",
        "                    ## descent we need to pass the data through multiple times\n",
        "                   epochs = 40,\n",
        "                    ## Since you can't pass the entire dataset through the \n",
        "                    ## network at once you divide it into batches and pass them\n",
        "                    ## through at once\n",
        "                   batch_size = 512,\n",
        "                    ## Run the model on the validation dataset \n",
        "                   validation_data = (x_val, y_val),\n",
        "                    ## Output the results of the validation dataset.\n",
        "                   verbose = 1)"
      ],
      "execution_count": 0,
      "outputs": [
        {
          "output_type": "stream",
          "text": [
            "Train on 15000 samples, validate on 10000 samples\n",
            "Epoch 1/40\n",
            "15000/15000 [==============================] - 2s 108us/step - loss: 0.6915 - acc: 0.6150 - val_loss: 0.6892 - val_acc: 0.6767\n",
            "Epoch 2/40\n",
            "15000/15000 [==============================] - 1s 63us/step - loss: 0.6851 - acc: 0.7291 - val_loss: 0.6805 - val_acc: 0.7216\n",
            "Epoch 3/40\n",
            "15000/15000 [==============================] - 1s 63us/step - loss: 0.6720 - acc: 0.7612 - val_loss: 0.6645 - val_acc: 0.7572\n",
            "Epoch 4/40\n",
            "15000/15000 [==============================] - 1s 63us/step - loss: 0.6500 - acc: 0.7663 - val_loss: 0.6405 - val_acc: 0.7751\n",
            "Epoch 5/40\n",
            "15000/15000 [==============================] - 1s 64us/step - loss: 0.6186 - acc: 0.7964 - val_loss: 0.6070 - val_acc: 0.7866\n",
            "Epoch 6/40\n",
            "15000/15000 [==============================] - 1s 63us/step - loss: 0.5791 - acc: 0.8113 - val_loss: 0.5686 - val_acc: 0.7986\n",
            "Epoch 7/40\n",
            "15000/15000 [==============================] - 1s 63us/step - loss: 0.5346 - acc: 0.8291 - val_loss: 0.5276 - val_acc: 0.8172\n",
            "Epoch 8/40\n",
            "15000/15000 [==============================] - 1s 63us/step - loss: 0.4894 - acc: 0.8458 - val_loss: 0.4877 - val_acc: 0.8304\n",
            "Epoch 9/40\n",
            "15000/15000 [==============================] - 1s 64us/step - loss: 0.4471 - acc: 0.8573 - val_loss: 0.4517 - val_acc: 0.8423\n",
            "Epoch 10/40\n",
            "15000/15000 [==============================] - 1s 63us/step - loss: 0.4087 - acc: 0.8707 - val_loss: 0.4208 - val_acc: 0.8497\n",
            "Epoch 11/40\n",
            "15000/15000 [==============================] - 1s 63us/step - loss: 0.3760 - acc: 0.8805 - val_loss: 0.3973 - val_acc: 0.8551\n",
            "Epoch 12/40\n",
            "15000/15000 [==============================] - 1s 64us/step - loss: 0.3483 - acc: 0.8867 - val_loss: 0.3743 - val_acc: 0.8632\n",
            "Epoch 13/40\n",
            "15000/15000 [==============================] - 1s 64us/step - loss: 0.3235 - acc: 0.8934 - val_loss: 0.3578 - val_acc: 0.8670\n",
            "Epoch 14/40\n",
            "15000/15000 [==============================] - 1s 64us/step - loss: 0.3030 - acc: 0.8987 - val_loss: 0.3433 - val_acc: 0.8718\n",
            "Epoch 15/40\n",
            "15000/15000 [==============================] - 1s 63us/step - loss: 0.2851 - acc: 0.9033 - val_loss: 0.3319 - val_acc: 0.8737\n",
            "Epoch 16/40\n",
            "15000/15000 [==============================] - 1s 63us/step - loss: 0.2698 - acc: 0.9058 - val_loss: 0.3226 - val_acc: 0.8752\n",
            "Epoch 17/40\n",
            "15000/15000 [==============================] - 1s 63us/step - loss: 0.2552 - acc: 0.9127 - val_loss: 0.3147 - val_acc: 0.8777\n",
            "Epoch 18/40\n",
            "15000/15000 [==============================] - 1s 64us/step - loss: 0.2426 - acc: 0.9175 - val_loss: 0.3081 - val_acc: 0.8805\n",
            "Epoch 19/40\n",
            "15000/15000 [==============================] - 1s 63us/step - loss: 0.2308 - acc: 0.9214 - val_loss: 0.3028 - val_acc: 0.8814\n",
            "Epoch 20/40\n",
            "15000/15000 [==============================] - 1s 63us/step - loss: 0.2205 - acc: 0.9240 - val_loss: 0.2985 - val_acc: 0.8820\n",
            "Epoch 21/40\n",
            "15000/15000 [==============================] - 1s 63us/step - loss: 0.2104 - acc: 0.9289 - val_loss: 0.2945 - val_acc: 0.8827\n",
            "Epoch 22/40\n",
            "15000/15000 [==============================] - 1s 63us/step - loss: 0.2013 - acc: 0.9313 - val_loss: 0.2921 - val_acc: 0.8828\n",
            "Epoch 23/40\n",
            "15000/15000 [==============================] - 1s 63us/step - loss: 0.1929 - acc: 0.9349 - val_loss: 0.2898 - val_acc: 0.8832\n",
            "Epoch 24/40\n",
            "15000/15000 [==============================] - 1s 63us/step - loss: 0.1845 - acc: 0.9394 - val_loss: 0.2874 - val_acc: 0.8843\n",
            "Epoch 25/40\n",
            "15000/15000 [==============================] - 1s 64us/step - loss: 0.1771 - acc: 0.9423 - val_loss: 0.2860 - val_acc: 0.8849\n",
            "Epoch 26/40\n",
            "15000/15000 [==============================] - 1s 63us/step - loss: 0.1698 - acc: 0.9457 - val_loss: 0.2852 - val_acc: 0.8853\n",
            "Epoch 27/40\n",
            "15000/15000 [==============================] - 1s 62us/step - loss: 0.1637 - acc: 0.9487 - val_loss: 0.2852 - val_acc: 0.8853\n",
            "Epoch 28/40\n",
            "15000/15000 [==============================] - 1s 62us/step - loss: 0.1572 - acc: 0.9508 - val_loss: 0.2843 - val_acc: 0.8853\n",
            "Epoch 29/40\n",
            "15000/15000 [==============================] - 1s 62us/step - loss: 0.1512 - acc: 0.9525 - val_loss: 0.2845 - val_acc: 0.8863\n",
            "Epoch 30/40\n",
            "15000/15000 [==============================] - 1s 62us/step - loss: 0.1460 - acc: 0.9550 - val_loss: 0.2852 - val_acc: 0.8864\n",
            "Epoch 31/40\n",
            "15000/15000 [==============================] - 1s 62us/step - loss: 0.1400 - acc: 0.9581 - val_loss: 0.2860 - val_acc: 0.8873\n",
            "Epoch 32/40\n",
            "15000/15000 [==============================] - 1s 62us/step - loss: 0.1351 - acc: 0.9599 - val_loss: 0.2872 - val_acc: 0.8869\n",
            "Epoch 33/40\n",
            "15000/15000 [==============================] - 1s 63us/step - loss: 0.1297 - acc: 0.9621 - val_loss: 0.2885 - val_acc: 0.8866\n",
            "Epoch 34/40\n",
            "15000/15000 [==============================] - 1s 63us/step - loss: 0.1251 - acc: 0.9641 - val_loss: 0.2903 - val_acc: 0.8855\n",
            "Epoch 35/40\n",
            "15000/15000 [==============================] - 1s 64us/step - loss: 0.1210 - acc: 0.9655 - val_loss: 0.2917 - val_acc: 0.8854\n",
            "Epoch 36/40\n",
            "15000/15000 [==============================] - 1s 63us/step - loss: 0.1160 - acc: 0.9679 - val_loss: 0.2940 - val_acc: 0.8843\n",
            "Epoch 37/40\n",
            "15000/15000 [==============================] - 1s 62us/step - loss: 0.1121 - acc: 0.9687 - val_loss: 0.2966 - val_acc: 0.8847\n",
            "Epoch 38/40\n",
            "15000/15000 [==============================] - 1s 62us/step - loss: 0.1086 - acc: 0.9697 - val_loss: 0.2983 - val_acc: 0.8841\n",
            "Epoch 39/40\n",
            "15000/15000 [==============================] - 1s 63us/step - loss: 0.1042 - acc: 0.9717 - val_loss: 0.3006 - val_acc: 0.8846\n",
            "Epoch 40/40\n",
            "15000/15000 [==============================] - 1s 62us/step - loss: 0.1004 - acc: 0.9728 - val_loss: 0.3033 - val_acc: 0.8846\n"
          ],
          "name": "stdout"
        }
      ]
    },
    {
      "metadata": {
        "id": "p5WCTsAP2yXM",
        "colab_type": "text"
      },
      "cell_type": "markdown",
      "source": [
        "**Evaluate The Model**"
      ]
    },
    {
      "metadata": {
        "id": "InpbcPmA2nTp",
        "colab_type": "code",
        "outputId": "b9e13627-0010-489f-8bc9-45f6476b4e5d",
        "colab": {
          "base_uri": "https://localhost:8080/",
          "height": 51
        }
      },
      "cell_type": "code",
      "source": [
        "## Returns the loss values and metric values for the model in test mode on the \n",
        "## provided test datasets \n",
        "results = model.evaluate(test_data, test_labels)\n",
        "\n",
        "## print results\n",
        "print(results)"
      ],
      "execution_count": 0,
      "outputs": [
        {
          "output_type": "stream",
          "text": [
            "25000/25000 [==============================] - 1s 39us/step\n",
            "[0.32326120984077455, 0.8728]\n"
          ],
          "name": "stdout"
        }
      ]
    },
    {
      "metadata": {
        "id": "TjBUJFCW3LmX",
        "colab_type": "text"
      },
      "cell_type": "markdown",
      "source": [
        "**Create a Graph of Accuracy and Loss Over Time**"
      ]
    },
    {
      "metadata": {
        "id": "Azo2zj-a200J",
        "colab_type": "code",
        "outputId": "e3c4cca7-004b-4796-c5a4-d18db3717453",
        "colab": {
          "base_uri": "https://localhost:8080/",
          "height": 34
        }
      },
      "cell_type": "code",
      "source": [
        "## model.fit() contains a dictionary with everything that happened during \n",
        "## training\n",
        "history_dict = history.history\n",
        "## There are four keys in the dictionary, one for each monitored metric during \n",
        "## training and evaluation\n",
        "history_dict.keys()"
      ],
      "execution_count": 0,
      "outputs": [
        {
          "output_type": "execute_result",
          "data": {
            "text/plain": [
              "dict_keys(['val_loss', 'val_acc', 'loss', 'acc'])"
            ]
          },
          "metadata": {
            "tags": []
          },
          "execution_count": 16
        }
      ]
    },
    {
      "metadata": {
        "id": "eWZkcpJ13U2D",
        "colab_type": "code",
        "outputId": "14492502-4960-40a6-ef61-03c3ee024b6b",
        "colab": {
          "base_uri": "https://localhost:8080/",
          "height": 376
        }
      },
      "cell_type": "code",
      "source": [
        "## Plot the metrics that were recorded during training for comparison\n",
        "## as well as training and validation accuracy\n",
        "\n",
        "import matplotlib.pyplot as plt\n",
        "\n",
        "## extract accuracy history of data during training\n",
        "acc = history.history['acc']\n",
        "## Extract validation accuracy of data during training\n",
        "val_acc = history.history['val_acc']\n",
        "## Extract loss history of data during training\n",
        "loss = history.history['loss']\n",
        "## Extract validation losses of data during training\n",
        "val_loss = history.history['val_loss']\n",
        "\n",
        "## Calculate how many epochs there were by looking at length of accuracy data\n",
        "epochs = range(1, len(acc) + 1)\n",
        "\n",
        "# \"bo\" is for \"blue dot\"\n",
        "## Plot epochs vs loss using blue dots (\"bo\") and label it Training Loss\n",
        "plt.plot(epochs, loss, 'bo', label = 'Training Loss')\n",
        "# b is for \"solid blue line\"\n",
        "## Plot epochs vs val_loss using blue line (\"b\") and label it validation loss\n",
        "plt.plot(epochs, val_loss, 'b', label = 'Validation Loss')\n",
        "## Title the graph \"Training and Validation Loss\"\n",
        "plt.title('Training and Validation Loss')\n",
        "## x label is \"Epochs\"\n",
        "plt.xlabel('Epochs')\n",
        "## y label is \"Loss\"\n",
        "plt.ylabel('Loss')\n",
        "## Add legend\n",
        "plt.legend()\n",
        "\n",
        "## Show the graph\n",
        "plt.show()"
      ],
      "execution_count": 0,
      "outputs": [
        {
          "output_type": "display_data",
          "data": {
            "image/png": "[encoded data removed]",
            "text/plain": [
              "<matplotlib.figure.Figure at 0x7f9f3dfafb70>"
            ]
          },
          "metadata": {
            "tags": []
          }
        }
      ]
    },
    {
      "metadata": {
        "id": "V0NvMhTF5JDz",
        "colab_type": "code",
        "outputId": "2e44ba65-4c22-4843-b3c1-94fcc494794c",
        "colab": {
          "base_uri": "https://localhost:8080/",
          "height": 376
        }
      },
      "cell_type": "code",
      "source": [
        "# Plot accuracy rather than loss\n",
        "\n",
        "plt.clf()   #clear figure\n",
        "## Extract the accuracy data from the dictionary\n",
        "acc_values = history_dict['acc']\n",
        "## Extract the validation accuracy data from the dictionary\n",
        "val_acc_values = history_dict['val_acc']\n",
        "\n",
        "## Plot epochs vs accuracy in blue dots \"bo\" labeled \"Training acc\"\n",
        "plt.plot(epochs, acc, 'bo', label = 'Training acc')\n",
        "## Plot epoch vs validation accuracy in blue line \"b\" labelled \"Validation acc\"\n",
        "plt.plot(epochs, val_acc, 'b', label = \"Validation acc\")\n",
        "## Title the graph \"Training and Validation Accuracy\"\n",
        "plt.title('Training and Validation Accuracy')\n",
        "## Label the x-acis \"Epochs\"\n",
        "plt.xlabel('Epochs')\n",
        "## Label the y-axis \"Accuracy\"\n",
        "plt.ylabel('Accuracy')\n",
        "## Add a legend\n",
        "plt.legend()\n",
        "\n",
        "## Show the graph\n",
        "plt.show()"
      ],
      "execution_count": 0,
      "outputs": [
        {
          "output_type": "display_data",
          "data": {
            "image/png": "[encoded data removed]",
            "text/plain": [
              "<matplotlib.figure.Figure at 0x7fcaaada4860>"
            ]
          },
          "metadata": {
            "tags": []
          }
        }
      ]
    },
    {
      "metadata": {
        "id": "xR0aYxeS6iiH",
        "colab_type": "code",
        "colab": {}
      },
      "cell_type": "code",
      "source": [
        ""
      ],
      "execution_count": 0,
      "outputs": []
    }
  ]
}