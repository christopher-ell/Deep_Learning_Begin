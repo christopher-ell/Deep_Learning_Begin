{
  "nbformat": 4,
  "nbformat_minor": 0,
  "metadata": {
    "colab": {
      "name": "3. Basic_Regression.ipynb",
      "version": "0.3.2",
      "provenance": [],
      "collapsed_sections": [],
      "include_colab_link": true
    },
    "kernelspec": {
      "name": "python3",
      "display_name": "Python 3"
    }
  },
  "cells": [
    {
      "cell_type": "markdown",
      "metadata": {
        "id": "view-in-github",
        "colab_type": "text"
      },
      "source": [
        "<a href=\"https://colab.research.google.com/github/christopher-ell/Deep_Learning_Begin/blob/master/3_Basic_Regression.ipynb\" target=\"_parent\"><img src=\"https://colab.research.google.com/assets/colab-badge.svg\" alt=\"Open In Colab\"/></a>"
      ]
    },
    {
      "metadata": {
        "id": "DANOb-OQ0gU2",
        "colab_type": "text"
      },
      "cell_type": "markdown",
      "source": [
        "Source: https://www.tensorflow.org/tutorials/keras/basic_regression"
      ]
    },
    {
      "metadata": {
        "id": "SDJXzI4w0d5t",
        "colab_type": "code",
        "outputId": "e09adb0c-6e25-4cd7-f21f-7491bcc89880",
        "colab": {
          "base_uri": "https://localhost:8080/",
          "height": 34
        }
      },
      "cell_type": "code",
      "source": [
        "from __future__ import absolute_import, division, print_function\n",
        "\n",
        "import tensorflow as tf\n",
        "from tensorflow import keras\n",
        "\n",
        "import numpy as np\n",
        "\n",
        "print(tf.__version__)"
      ],
      "execution_count": 0,
      "outputs": [
        {
          "output_type": "stream",
          "text": [
            "1.12.0\n"
          ],
          "name": "stdout"
        }
      ]
    },
    {
      "metadata": {
        "id": "urc6tYl35IZ2",
        "colab_type": "text"
      },
      "cell_type": "markdown",
      "source": [
        "**The Boston Housing Price Dataset**\n",
        "\n",
        "In regression problems you try to predict the output of a continuous value, like price or probability.\n",
        "This is contrasted with a clssification problem, where we aim to predict a discrete label\n",
        "\n",
        "This will build a model of median house prices in Boston during the 70's. To do this the model will be provided with data points about the suburb such as crime and property taxes\n",
        "\n"
      ]
    },
    {
      "metadata": {
        "id": "9pnKgpnR0jx7",
        "colab_type": "code",
        "outputId": "5d905782-a838-4d5c-cd0f-df31056c3aa5",
        "colab": {
          "base_uri": "https://localhost:8080/",
          "height": 51
        }
      },
      "cell_type": "code",
      "source": [
        "## Ths is a common enough training dataset that it is accessible in tensorflow \n",
        "## below\n",
        "boston_housing = keras.datasets.boston_housing\n",
        "\n",
        "## Unpack the dataset into training and testing data and training and testing \n",
        "## labels\n",
        "(train_data, train_labels), (test_data, test_labels) = boston_housing.load_data()\n",
        "\n",
        "# Shuffle the training set\n",
        "## Create a list of randomly shuffled numbers between 0 and the length of the \n",
        "## training labels\n",
        "order = np.argsort(np.random.random(train_labels.shape))\n",
        "## Use the randomly shuffled numbers to shuffle the training data\n",
        "train_data = train_data[order]\n",
        "## Use the randonly shuffled numbers to shuffle the training labels in the same \n",
        "## way as the trainin data was shuffled\n",
        "train_labels = train_labels[order]"
      ],
      "execution_count": 0,
      "outputs": [
        {
          "output_type": "stream",
          "text": [
            "Downloading data from https://storage.googleapis.com/tensorflow/tf-keras-datasets/boston_housing.npz\n",
            "57344/57026 [==============================] - 0s 0us/step\n"
          ],
          "name": "stdout"
        }
      ]
    },
    {
      "metadata": {
        "id": "Ci8Nmw365-N9",
        "colab_type": "text"
      },
      "cell_type": "markdown",
      "source": [
        "**Examples and Features**"
      ]
    },
    {
      "metadata": {
        "id": "k0G2jnsY5K2J",
        "colab_type": "code",
        "outputId": "e6b88223-5ef5-48f1-8f59-ca674c8d4939",
        "colab": {
          "base_uri": "https://localhost:8080/",
          "height": 51
        }
      },
      "cell_type": "code",
      "source": [
        "## Check the length of the training data\n",
        "print(\"Training set: {}\".format(train_data.shape))\n",
        "## Check the length of the test data\n",
        "print(\"Testing set: {}\".format(test_data.shape))"
      ],
      "execution_count": 0,
      "outputs": [
        {
          "output_type": "stream",
          "text": [
            "Training set: (404, 13)\n",
            "Testing set: (102, 13)\n"
          ],
          "name": "stdout"
        }
      ]
    },
    {
      "metadata": {
        "id": "GNVNvM5t6APZ",
        "colab_type": "code",
        "outputId": "2e629d49-59eb-4f86-8a8b-a2dda3628992",
        "colab": {
          "base_uri": "https://localhost:8080/",
          "height": 68
        }
      },
      "cell_type": "code",
      "source": [
        "## Take a look at the first example and see the values are on largely different \n",
        "## scales\n",
        "print(train_data[0]) # Display sample features, notice the different scales "
      ],
      "execution_count": 0,
      "outputs": [
        {
          "output_type": "stream",
          "text": [
            "[7.8750e-02 4.5000e+01 3.4400e+00 0.0000e+00 4.3700e-01 6.7820e+00\n",
            " 4.1100e+01 3.7886e+00 5.0000e+00 3.9800e+02 1.5200e+01 3.9387e+02\n",
            " 6.6800e+00]\n"
          ],
          "name": "stdout"
        }
      ]
    },
    {
      "metadata": {
        "id": "GX66HgVO6zxo",
        "colab_type": "code",
        "outputId": "2f53e2a1-5fa5-4be3-a227-13eee837e2b6",
        "colab": {
          "base_uri": "https://localhost:8080/",
          "height": 204
        }
      },
      "cell_type": "code",
      "source": [
        "## Use Pandas to view the data in a nicely formatted dataframe \n",
        "import pandas as pd\n",
        "\n",
        "## Set the column names for the dataframe\n",
        "column_names = ['CRIM', 'ZN', 'INDUS', 'CHAS', 'NOX', 'RM', 'AGE', 'DIS', 'RAD',\n",
        "               'TAX', 'PTRATIO', 'B', 'LSTAT']\n",
        "\n",
        "## Put the data into a dataframe with the above specified column names\n",
        "df = pd.DataFrame(train_data, columns=column_names)\n",
        "## Show the first few observations of the dataframe nicely formatted\n",
        "df.head()"
      ],
      "execution_count": 0,
      "outputs": [
        {
          "output_type": "execute_result",
          "data": {
            "text/html": [
              "<div>\n",
              "<style scoped>\n",
              "    .dataframe tbody tr th:only-of-type {\n",
              "        vertical-align: middle;\n",
              "    }\n",
              "\n",
              "    .dataframe tbody tr th {\n",
              "        vertical-align: top;\n",
              "    }\n",
              "\n",
              "    .dataframe thead th {\n",
              "        text-align: right;\n",
              "    }\n",
              "</style>\n",
              "<table border=\"1\" class=\"dataframe\">\n",
              "  <thead>\n",
              "    <tr style=\"text-align: right;\">\n",
              "      <th></th>\n",
              "      <th>CRIM</th>\n",
              "      <th>ZN</th>\n",
              "      <th>INDUS</th>\n",
              "      <th>CHAS</th>\n",
              "      <th>NOX</th>\n",
              "      <th>RM</th>\n",
              "      <th>AGE</th>\n",
              "      <th>DIS</th>\n",
              "      <th>RAD</th>\n",
              "      <th>TAX</th>\n",
              "      <th>PTRATIO</th>\n",
              "      <th>B</th>\n",
              "      <th>LSTAT</th>\n",
              "    </tr>\n",
              "  </thead>\n",
              "  <tbody>\n",
              "    <tr>\n",
              "      <th>0</th>\n",
              "      <td>0.07875</td>\n",
              "      <td>45.0</td>\n",
              "      <td>3.44</td>\n",
              "      <td>0.0</td>\n",
              "      <td>0.437</td>\n",
              "      <td>6.782</td>\n",
              "      <td>41.1</td>\n",
              "      <td>3.7886</td>\n",
              "      <td>5.0</td>\n",
              "      <td>398.0</td>\n",
              "      <td>15.2</td>\n",
              "      <td>393.87</td>\n",
              "      <td>6.68</td>\n",
              "    </tr>\n",
              "    <tr>\n",
              "      <th>1</th>\n",
              "      <td>4.55587</td>\n",
              "      <td>0.0</td>\n",
              "      <td>18.10</td>\n",
              "      <td>0.0</td>\n",
              "      <td>0.718</td>\n",
              "      <td>3.561</td>\n",
              "      <td>87.9</td>\n",
              "      <td>1.6132</td>\n",
              "      <td>24.0</td>\n",
              "      <td>666.0</td>\n",
              "      <td>20.2</td>\n",
              "      <td>354.70</td>\n",
              "      <td>7.12</td>\n",
              "    </tr>\n",
              "    <tr>\n",
              "      <th>2</th>\n",
              "      <td>0.09604</td>\n",
              "      <td>40.0</td>\n",
              "      <td>6.41</td>\n",
              "      <td>0.0</td>\n",
              "      <td>0.447</td>\n",
              "      <td>6.854</td>\n",
              "      <td>42.8</td>\n",
              "      <td>4.2673</td>\n",
              "      <td>4.0</td>\n",
              "      <td>254.0</td>\n",
              "      <td>17.6</td>\n",
              "      <td>396.90</td>\n",
              "      <td>2.98</td>\n",
              "    </tr>\n",
              "    <tr>\n",
              "      <th>3</th>\n",
              "      <td>0.01870</td>\n",
              "      <td>85.0</td>\n",
              "      <td>4.15</td>\n",
              "      <td>0.0</td>\n",
              "      <td>0.429</td>\n",
              "      <td>6.516</td>\n",
              "      <td>27.7</td>\n",
              "      <td>8.5353</td>\n",
              "      <td>4.0</td>\n",
              "      <td>351.0</td>\n",
              "      <td>17.9</td>\n",
              "      <td>392.43</td>\n",
              "      <td>6.36</td>\n",
              "    </tr>\n",
              "    <tr>\n",
              "      <th>4</th>\n",
              "      <td>0.52693</td>\n",
              "      <td>0.0</td>\n",
              "      <td>6.20</td>\n",
              "      <td>0.0</td>\n",
              "      <td>0.504</td>\n",
              "      <td>8.725</td>\n",
              "      <td>83.0</td>\n",
              "      <td>2.8944</td>\n",
              "      <td>8.0</td>\n",
              "      <td>307.0</td>\n",
              "      <td>17.4</td>\n",
              "      <td>382.00</td>\n",
              "      <td>4.63</td>\n",
              "    </tr>\n",
              "  </tbody>\n",
              "</table>\n",
              "</div>"
            ],
            "text/plain": [
              "      CRIM    ZN  INDUS  CHAS    NOX     RM   AGE     DIS   RAD    TAX  \\\n",
              "0  0.07875  45.0   3.44   0.0  0.437  6.782  41.1  3.7886   5.0  398.0   \n",
              "1  4.55587   0.0  18.10   0.0  0.718  3.561  87.9  1.6132  24.0  666.0   \n",
              "2  0.09604  40.0   6.41   0.0  0.447  6.854  42.8  4.2673   4.0  254.0   \n",
              "3  0.01870  85.0   4.15   0.0  0.429  6.516  27.7  8.5353   4.0  351.0   \n",
              "4  0.52693   0.0   6.20   0.0  0.504  8.725  83.0  2.8944   8.0  307.0   \n",
              "\n",
              "   PTRATIO       B  LSTAT  \n",
              "0     15.2  393.87   6.68  \n",
              "1     20.2  354.70   7.12  \n",
              "2     17.6  396.90   2.98  \n",
              "3     17.9  392.43   6.36  \n",
              "4     17.4  382.00   4.63  "
            ]
          },
          "metadata": {
            "tags": []
          },
          "execution_count": 16
        }
      ]
    },
    {
      "metadata": {
        "id": "H7CrWmfYX2AX",
        "colab_type": "text"
      },
      "cell_type": "markdown",
      "source": [
        "**Labels**"
      ]
    },
    {
      "metadata": {
        "id": "CAMgts7J7c7n",
        "colab_type": "code",
        "outputId": "c42762aa-876c-407d-ed52-48b119028d67",
        "colab": {
          "base_uri": "https://localhost:8080/",
          "height": 34
        }
      },
      "cell_type": "code",
      "source": [
        "## Show labels, which are house prices in thousands of dollars\n",
        "print(train_labels[0:10]) # Display first 10 entries"
      ],
      "execution_count": 0,
      "outputs": [
        {
          "output_type": "stream",
          "text": [
            "[32.  27.5 32.  23.1 50.  20.6 22.6 36.2 21.8 19.5]\n"
          ],
          "name": "stdout"
        }
      ]
    },
    {
      "metadata": {
        "id": "DNgcy54AA6Bf",
        "colab_type": "text"
      },
      "cell_type": "markdown",
      "source": [
        "**Normalise Features**\n",
        "\n",
        "Since features are on such different scales it is a good idea to normalise them. This makes it easier for the model to converge and less dependent on the choice of initial parameters"
      ]
    },
    {
      "metadata": {
        "id": "4qqX4oCUA4EN",
        "colab_type": "code",
        "outputId": "a2639ee6-bc67-4ebf-a991-dd0e5de9b68c",
        "colab": {
          "base_uri": "https://localhost:8080/",
          "height": 68
        }
      },
      "cell_type": "code",
      "source": [
        "# Test data is \"not\" used when calculating the mean and std\n",
        "## Calculate the mean of the training data\n",
        "mean = train_data.mean(axis=0)\n",
        "## Calculate the standard deviation of the training data\n",
        "std = train_data.mean(axis=0)\n",
        "## Normalise the training data by subtracting it's mean and dividing by its \n",
        "## standard deviation\n",
        "train_data = (train_data - mean) / std\n",
        "## Normalise the test data by subtracting the training mean and dividing by the \n",
        "## training standard deviation\n",
        "test_data = (test_data - mean) / std\n",
        "\n",
        "## View first version of the standardised data\n",
        "print(train_data[0]) # First training sample, normalized"
      ],
      "execution_count": 0,
      "outputs": [
        {
          "output_type": "stream",
          "text": [
            "[-0.97897258  2.91979301 -0.69021374 -1.         -0.21594089  0.08216238\n",
            " -0.40443969  0.01292131 -0.47037231 -0.01945933 -0.17731067  0.11017104\n",
            " -0.47570081]\n"
          ],
          "name": "stdout"
        }
      ]
    },
    {
      "metadata": {
        "id": "4qsJR-yxB1EG",
        "colab_type": "text"
      },
      "cell_type": "markdown",
      "source": [
        "**Create The Model**"
      ]
    },
    {
      "metadata": {
        "id": "_5hUXPmOA75M",
        "colab_type": "code",
        "outputId": "5ecf8f15-cee0-4da6-9939-51d4f074f346",
        "colab": {
          "base_uri": "https://localhost:8080/",
          "height": 238
        }
      },
      "cell_type": "code",
      "source": [
        "## Build the model that will use a linear sequential stack of layers\n",
        "def build_model():\n",
        "  model = keras.Sequential([\n",
        "      ## Densley packed hidden layer with 64 notes and a relu activation \n",
        "      ## function\n",
        "      keras.layers.Dense(64, activation = tf.nn.relu,\n",
        "                         ## Shape of the data input into the model\n",
        "                        input_shape = (train_data.shape[1],)),\n",
        "      ## Another dense layer with 64 nodes \n",
        "      keras.layers.Dense(64, activation = tf.nn.relu),\n",
        "      keras.layers.Dense(1)\n",
        "  ])\n",
        "  \n",
        "  optimizer = tf.train.RMSPropOptimizer(0.001)\n",
        "  \n",
        "  model.compile(loss = 'mse', \n",
        "               optimizer = optimizer,\n",
        "               metrics = ['mae'])\n",
        "  \n",
        "  return model\n",
        "\n",
        "model = build_model()\n",
        "model.summary()"
      ],
      "execution_count": 0,
      "outputs": [
        {
          "output_type": "stream",
          "text": [
            "_________________________________________________________________\n",
            "Layer (type)                 Output Shape              Param #   \n",
            "=================================================================\n",
            "dense (Dense)                (None, 64)                896       \n",
            "_________________________________________________________________\n",
            "dense_1 (Dense)              (None, 64)                4160      \n",
            "_________________________________________________________________\n",
            "dense_2 (Dense)              (None, 1)                 65        \n",
            "=================================================================\n",
            "Total params: 5,121\n",
            "Trainable params: 5,121\n",
            "Non-trainable params: 0\n",
            "_________________________________________________________________\n"
          ],
          "name": "stdout"
        }
      ]
    },
    {
      "metadata": {
        "id": "fGSD9iCBDaFs",
        "colab_type": "text"
      },
      "cell_type": "markdown",
      "source": [
        "**Train The Model**"
      ]
    },
    {
      "metadata": {
        "id": "ZeclO-jcB3jz",
        "colab_type": "code",
        "outputId": "9317b6ba-3fae-48fc-97b7-e4c993a6c89c",
        "colab": {
          "base_uri": "https://localhost:8080/",
          "height": 119
        }
      },
      "cell_type": "code",
      "source": [
        "# Display training progress by printing a single dot for each completed epoch\n",
        "class PrintDot(keras.callbacks.Callback):\n",
        "  def on_epoch_end(self, epoch, logs):\n",
        "    if epoch % 100 == 0: print('')\n",
        "    print('.', end='')\n",
        "    \n",
        "EPOCHS = 500\n",
        "\n",
        "# Store training stats\n",
        "history = model.fit(train_data, train_labels, epochs=EPOCHS, \n",
        "                   validation_split = 0.2, verbose = 0, \n",
        "                   callbacks=[PrintDot()])"
      ],
      "execution_count": 0,
      "outputs": [
        {
          "output_type": "stream",
          "text": [
            "\n",
            "....................................................................................................\n",
            "....................................................................................................\n",
            "....................................................................................................\n",
            "....................................................................................................\n",
            "...................................................................................................."
          ],
          "name": "stdout"
        }
      ]
    },
    {
      "metadata": {
        "id": "I7q0O6HrIAoV",
        "colab_type": "code",
        "outputId": "f2eaa485-51ce-430e-cac5-f648fefe150a",
        "colab": {
          "base_uri": "https://localhost:8080/",
          "height": 365
        }
      },
      "cell_type": "code",
      "source": [
        "import matplotlib.pyplot as plt\n",
        "\n",
        "def plot_history(history):\n",
        "  plt.figure()\n",
        "  plt.xlabel('Epoch')\n",
        "  plt.ylabel('Mean Abs Error [1000$]')\n",
        "  plt.plot(history.epoch, np.array(history.history['mean_absolute_error']), \n",
        "          label = 'Train Loss')\n",
        "  plt.plot(history.epoch, np.array(history.history['val_mean_absolute_error']),\n",
        "          label = 'Val Loss')\n",
        "  plt.legend()\n",
        "  plt.ylim([0, 5])\n",
        "\n",
        "plot_history(history)"
      ],
      "execution_count": 0,
      "outputs": [
        {
          "output_type": "display_data",
          "data": {
            "image/png": "[encoded data removed]",
            "text/plain": [
              "<matplotlib.figure.Figure at 0x7fc068ccf6a0>"
            ]
          },
          "metadata": {
            "tags": []
          }
        }
      ]
    },
    {
      "metadata": {
        "id": "XLUWbQ1-JYyg",
        "colab_type": "code",
        "outputId": "2ab5c924-e170-44f3-f8e1-91f2d3fc5aa3",
        "colab": {
          "base_uri": "https://localhost:8080/",
          "height": 450
        }
      },
      "cell_type": "code",
      "source": [
        "model = build_model()\n",
        "\n",
        "# The patience parameter is the amount of epochs to check for improvement\n",
        "early_stop = keras.callbacks.EarlyStopping(monitor = 'val_loss', patience = 20)\n",
        "\n",
        "history =  model.fit(train_data, train_labels, epochs = EPOCHS,\n",
        "                    validation_split = 0.2, verbose = 0,\n",
        "                    callbacks = [early_stop, PrintDot()])\n",
        "\n",
        "plot_history(history)"
      ],
      "execution_count": 0,
      "outputs": [
        {
          "output_type": "stream",
          "text": [
            "\n",
            "....................................................................................................\n",
            "....................................................................................................\n",
            "....................................................................................................\n",
            "........"
          ],
          "name": "stdout"
        },
        {
          "output_type": "display_data",
          "data": {
            "image/png": "[encoded data removed]",
            "text/plain": [
              "<matplotlib.figure.Figure at 0x7fc066371fd0>"
            ]
          },
          "metadata": {
            "tags": []
          }
        }
      ]
    },
    {
      "metadata": {
        "id": "koZhzHEqDbco",
        "colab_type": "code",
        "outputId": "8e49b11b-72ac-4180-9193-c0243d4b2218",
        "colab": {
          "base_uri": "https://localhost:8080/",
          "height": 34
        }
      },
      "cell_type": "code",
      "source": [
        "[loss, mae] = model.evaluate(test_data, test_labels, verbose = 0)\n",
        "\n",
        "print(\"Testing set Mean Abs Error : ${:7.2f}\".format(mae * 1000))"
      ],
      "execution_count": 0,
      "outputs": [
        {
          "output_type": "stream",
          "text": [
            "Testing set Mean Abs Error : $2829.09\n"
          ],
          "name": "stdout"
        }
      ]
    },
    {
      "metadata": {
        "id": "DR7xmTX7G_z9",
        "colab_type": "text"
      },
      "cell_type": "markdown",
      "source": [
        "**Predict**"
      ]
    },
    {
      "metadata": {
        "id": "Ix6Lw2vtG52q",
        "colab_type": "code",
        "outputId": "8a25bdc1-2e0a-4830-8762-85fb654a24fb",
        "colab": {
          "base_uri": "https://localhost:8080/",
          "height": 361
        }
      },
      "cell_type": "code",
      "source": [
        "test_predictions = model.predict(test_data).flatten()\n",
        "\n",
        "plt.scatter(test_labels, test_predictions)\n",
        "plt.xlabel('True Values [1000$]')\n",
        "plt.ylabel('Predictions [1000$]')\n",
        "plt.axis('equal')\n",
        "plt.xlim(plt.xlim())\n",
        "plt.ylim(plt.ylim())\n",
        "_ = plt.plot([-100, 100], [-100, 100])"
      ],
      "execution_count": 0,
      "outputs": [
        {
          "output_type": "display_data",
          "data": {
            "image/png": "[encoded data removed]",
            "text/plain": [
              "<matplotlib.figure.Figure at 0x7fc0683e5828>"
            ]
          },
          "metadata": {
            "tags": []
          }
        }
      ]
    },
    {
      "metadata": {
        "id": "bONzjkwpHA5Z",
        "colab_type": "code",
        "outputId": "eda4c807-b0d0-4a16-ac44-3c2d536e9d72",
        "colab": {
          "base_uri": "https://localhost:8080/",
          "height": 361
        }
      },
      "cell_type": "code",
      "source": [
        "error = test_predictions - test_labels\n",
        "plt.hist(error, bins = 50)\n",
        "plt.xlabel('Prediction Error [1000$]')\n",
        "_= plt.ylabel(\"Count\")"
      ],
      "execution_count": 0,
      "outputs": [
        {
          "output_type": "display_data",
          "data": {
            "image/png": "[encoded data removed]",
            "text/plain": [
              "<matplotlib.figure.Figure at 0x7fc06581c518>"
            ]
          },
          "metadata": {
            "tags": []
          }
        }
      ]
    },
    {
      "metadata": {
        "id": "ztfMcDNsKm9S",
        "colab_type": "code",
        "colab": {}
      },
      "cell_type": "code",
      "source": [
        ""
      ],
      "execution_count": 0,
      "outputs": []
    }
  ]
}