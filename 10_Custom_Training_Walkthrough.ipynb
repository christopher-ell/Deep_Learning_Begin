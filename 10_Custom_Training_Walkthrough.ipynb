{
  "nbformat": 4,
  "nbformat_minor": 0,
  "metadata": {
    "colab": {
      "name": "10. Custom: Training Walkthrough.ipynb",
      "version": "0.3.2",
      "provenance": [],
      "collapsed_sections": [],
      "include_colab_link": true
    },
    "kernelspec": {
      "name": "python3",
      "display_name": "Python 3"
    }
  },
  "cells": [
    {
      "cell_type": "markdown",
      "metadata": {
        "id": "view-in-github",
        "colab_type": "text"
      },
      "source": [
        "<a href=\"https://colab.research.google.com/github/christopher-ell/Deep_Learning_Begin/blob/master/10_Custom_Training_Walkthrough.ipynb\" target=\"_parent\"><img src=\"https://colab.research.google.com/assets/colab-badge.svg\" alt=\"Open In Colab\"/></a>"
      ]
    },
    {
      "metadata": {
        "id": "4oW0x44tSw06",
        "colab_type": "text"
      },
      "cell_type": "markdown",
      "source": [
        "Source: https://www.tensorflow.org/tutorials/eager/custom_training_walkthrough"
      ]
    },
    {
      "metadata": {
        "id": "DZ18PRHcigP3",
        "colab_type": "text"
      },
      "cell_type": "markdown",
      "source": [
        "**Summary**\n",
        "1. Import and Parse the data\n",
        "    - Import the data from tensorflow datasets\n",
        "    - Transform it into a tensorflow dataset and specify how it will be broken into batches, how many epochs, whether it will be shuffled and other characteristics\n",
        "2. Select The Type of Model\n",
        "  - Create a neural network by stacking layers linearly separated by non-linear functions such as relu\n",
        "  - Test out the model that currently has random parameters\n",
        "3. Train the Model\n",
        "  - Define the loss function and then using GradientTape() watch the loss function so you can later calculate the gradient wrt each parameter\n",
        "  - Specify what method will be used to optimise the parameters including specifying what the learning rate of that method will be\n",
        "  - Calculate the loss for each batch of examples, then calculate the gradient of that loss and adjust the parameters using that gradient and the method of optimisation specified above\n",
        "  - Repeat the above iteration of updating the parameters until you have been through the data the number of epoch times\n",
        "4. Evaluate The Model's Effectiveness\n",
        "  - During the training track each epoch the loss and accuracy values\n",
        "  - Extract the loss and accuracy values and plot them to view how those metrics improve over training\n",
        "  - Import a test dataset (model that has never been used to train your model) and transform it into a tensor specifying batch size, shuffling, epochs and other settings.\n",
        "  - Use the model trained on the training data to make predictions on the test data and track how accuracte these predictions are\n",
        "5. Use The Trained Model to Make Predictions\n",
        "  - Load some custom data, transforming it into a tensor and specifying how it will be run in the model\n",
        "  - Load the custom data into the model and use it to make predictions."
      ]
    },
    {
      "metadata": {
        "id": "pvSKkJ9cSom-",
        "colab_type": "code",
        "outputId": "872049fa-852d-4150-db86-9a24bd006154",
        "colab": {
          "base_uri": "https://localhost:8080/",
          "height": 51
        }
      },
      "cell_type": "code",
      "source": [
        "from __future__ import absolute_import, division, print_function\n",
        "\n",
        "import os\n",
        "import matplotlib.pyplot as plt\n",
        "\n",
        "import tensorflow as tf\n",
        "\n",
        "tf.enable_eager_execution()\n",
        "\n",
        "print(\"Tensorflow Version: {}\".format(tf.__version__))\n",
        "print(\"Eager Execution: {}\".format(tf.executing_eagerly()))"
      ],
      "execution_count": 1,
      "outputs": [
        {
          "output_type": "stream",
          "text": [
            "Tensorflow Version: 1.12.0\n",
            "Eager Execution: True\n"
          ],
          "name": "stdout"
        }
      ]
    },
    {
      "metadata": {
        "id": "9gm-HiNAT7ET",
        "colab_type": "text"
      },
      "cell_type": "markdown",
      "source": [
        "**The Iris Classification Problem**\n",
        "\n",
        "Import and Pars the Training Dataset"
      ]
    },
    {
      "metadata": {
        "id": "WOehi8LoSzX3",
        "colab_type": "code",
        "outputId": "6a5f1467-f002-4e1a-92cc-60be284bcb47",
        "colab": {
          "base_uri": "https://localhost:8080/",
          "height": 68
        }
      },
      "cell_type": "code",
      "source": [
        "## Iris dataset is quite common so there is a link to it in standard tensforflow datasets\n",
        "train_dataset_url = \"http://download.tensorflow.org/data/iris_training.csv\"\n",
        "## Download Iris from tensorflow datasets and save it locally\n",
        "train_dataset_fp = tf.keras.utils.get_file(fname = os.path.basename(train_dataset_url), \n",
        "                                          origin = train_dataset_url)\n",
        "\n",
        "## Print where dataset is saved\n",
        "print(\"Local copy of the dataset file: {}\".format(train_dataset_fp))"
      ],
      "execution_count": 2,
      "outputs": [
        {
          "output_type": "stream",
          "text": [
            "Downloading data from http://download.tensorflow.org/data/iris_training.csv\n",
            "\r8192/2194 [================================================================================================================] - 0s 0us/step\n",
            "Local copy of the dataset file: /root/.keras/datasets/iris_training.csv\n"
          ],
          "name": "stdout"
        }
      ]
    },
    {
      "metadata": {
        "id": "xtxXmnzsVCg1",
        "colab_type": "text"
      },
      "cell_type": "markdown",
      "source": [
        "Inspect The Data"
      ]
    },
    {
      "metadata": {
        "id": "Azn6gss6U9uP",
        "colab_type": "code",
        "outputId": "fa3ec1db-7f2b-4aa4-a422-015e5fa98e3e",
        "colab": {
          "base_uri": "https://localhost:8080/",
          "height": 102
        }
      },
      "cell_type": "code",
      "source": [
        "## Output the first 5 rows of data including the headings so it can be inspected\n",
        "!head -n5 {train_dataset_fp}"
      ],
      "execution_count": 3,
      "outputs": [
        {
          "output_type": "stream",
          "text": [
            "120,4,setosa,versicolor,virginica\n",
            "6.4,2.8,5.6,2.2,2\n",
            "5.0,2.3,3.3,1.0,1\n",
            "4.9,2.5,4.5,1.7,2\n",
            "4.9,3.1,1.5,0.1,0\n"
          ],
          "name": "stdout"
        }
      ]
    },
    {
      "metadata": {
        "id": "n9hCA3fNVPEy",
        "colab_type": "code",
        "outputId": "6bb67709-9e65-4ed7-ad20-39f635891832",
        "colab": {
          "base_uri": "https://localhost:8080/",
          "height": 51
        }
      },
      "cell_type": "code",
      "source": [
        "# Column order in csv file\n",
        "## Save a list of column names for the dataset\n",
        "column_names = ['sepal_length', 'sepal_width', 'petal_length', 'petal_width', 'species']\n",
        "\n",
        "# Set all except last column names to feature names\n",
        "feature_names = column_names[:-1]\n",
        "## Set last column name to the label\n",
        "label_name = column_names[-1]\n",
        "\n",
        "## Print feature names for inspection\n",
        "print(\"Features: {}\".format(feature_names))\n",
        "## Print label name for inspection\n",
        "print(\"Label: {}\".format(label_name))"
      ],
      "execution_count": 4,
      "outputs": [
        {
          "output_type": "stream",
          "text": [
            "Features: ['sepal_length', 'sepal_width', 'petal_length', 'petal_width']\n",
            "Label: species\n"
          ],
          "name": "stdout"
        }
      ]
    },
    {
      "metadata": {
        "id": "n3ECt7lXWMfF",
        "colab_type": "code",
        "colab": {}
      },
      "cell_type": "code",
      "source": [
        "## Each number (1, 2, 3) in the species column of the data is associated with a\n",
        "## label below called class names\n",
        "class_names = ['Iris Setosa', 'Iris Versicolor', 'Iris Virginica']"
      ],
      "execution_count": 0,
      "outputs": []
    },
    {
      "metadata": {
        "id": "QlnSpmD9W4np",
        "colab_type": "text"
      },
      "cell_type": "markdown",
      "source": [
        "Create a tf.data.dataset"
      ]
    },
    {
      "metadata": {
        "id": "Tse3zmNmW1tB",
        "colab_type": "code",
        "outputId": "0293a937-48c6-4e59-ad3e-9c0651505307",
        "colab": {
          "base_uri": "https://localhost:8080/",
          "height": 88
        }
      },
      "cell_type": "code",
      "source": [
        "## Tensorflows data API is able to transform data for loading into a model,\n",
        "## transforming it so that it can be used in training\n",
        "\n",
        "## Batch_size tells the model how many examples or datapoints to use for training\n",
        "## at the same time.\n",
        "batch_size = 32\n",
        "\n",
        "## The make_csv_dataset() function loads CSV data into Tensorflow\n",
        "train_dataset = tf.contrib.data.make_csv_dataset(\n",
        "    ## Below is the dataset being formatted by tensorflow\n",
        "    train_dataset_fp,\n",
        "    ## Batch_size is the number of examples that the model looks at each point \n",
        "    ## while training\n",
        "    batch_size,\n",
        "    ## A list of strings corresponding to the CSV column names\n",
        "    column_names = column_names,\n",
        "    # A string corresponding to the correct label or the value the model is \n",
        "    ## trying to get\n",
        "    label_name = label_name,\n",
        "    ## An integer specifying the number of times the model runs through the data\n",
        "    ## during training\n",
        "    num_epochs = 1)"
      ],
      "execution_count": 6,
      "outputs": [
        {
          "output_type": "stream",
          "text": [
            "WARNING:tensorflow:From <ipython-input-6-a4476ff57d44>:17: make_csv_dataset (from tensorflow.contrib.data.python.ops.readers) is deprecated and will be removed in a future version.\n",
            "Instructions for updating:\n",
            "Use `tf.data.experimental.make_csv_dataset(...)`.\n"
          ],
          "name": "stdout"
        }
      ]
    },
    {
      "metadata": {
        "id": "MxfIddMfXpKo",
        "colab_type": "code",
        "outputId": "21f6723c-c60b-4f60-d70f-1c6016885c15",
        "colab": {
          "base_uri": "https://localhost:8080/",
          "height": 357
        }
      },
      "cell_type": "code",
      "source": [
        "features, labels = next(iter(train_dataset))\n",
        "\n",
        "## The above function returns a formatted dataset where features are in a \n",
        "## dictionary of {'feature_name':values}\n",
        "features"
      ],
      "execution_count": 7,
      "outputs": [
        {
          "output_type": "execute_result",
          "data": {
            "text/plain": [
              "OrderedDict([('sepal_length',\n",
              "              <tf.Tensor: id=68, shape=(32,), dtype=float32, numpy=\n",
              "              array([6.3, 5.1, 6.8, 4.4, 5.4, 6.5, 6.4, 6.3, 5. , 7.3, 6.4, 4.8, 4.4,\n",
              "                     6.4, 6.8, 7.7, 4.9, 7.6, 6.5, 7.2, 6.7, 6.3, 7.9, 5.4, 6.4, 5.1,\n",
              "                     6. , 6.7, 4.6, 4.6, 5.7, 4.9], dtype=float32)>),\n",
              "             ('sepal_width',\n",
              "              <tf.Tensor: id=69, shape=(32,), dtype=float32, numpy=\n",
              "              array([2.5, 2.5, 2.8, 3.2, 3.9, 3. , 2.7, 3.4, 3.4, 2.9, 3.2, 3. , 2.9,\n",
              "                     2.8, 3. , 2.6, 3.1, 3. , 2.8, 3.2, 3.1, 2.3, 3.8, 3.7, 2.8, 3.8,\n",
              "                     2.2, 3.1, 3.2, 3.6, 2.8, 3.1], dtype=float32)>),\n",
              "             ('petal_length',\n",
              "              <tf.Tensor: id=66, shape=(32,), dtype=float32, numpy=\n",
              "              array([5. , 3. , 4.8, 1.3, 1.7, 5.5, 5.3, 5.6, 1.5, 6.3, 5.3, 1.4, 1.4,\n",
              "                     5.6, 5.5, 6.9, 1.5, 6.6, 4.6, 6. , 4.4, 4.4, 6.4, 1.5, 5.6, 1.6,\n",
              "                     5. , 5.6, 1.4, 1. , 4.5, 1.5], dtype=float32)>),\n",
              "             ('petal_width',\n",
              "              <tf.Tensor: id=67, shape=(32,), dtype=float32, numpy=\n",
              "              array([1.9, 1.1, 1.4, 0.2, 0.4, 1.8, 1.9, 2.4, 0.2, 1.8, 2.3, 0.3, 0.2,\n",
              "                     2.1, 2.1, 2.3, 0.1, 2.1, 1.5, 1.8, 1.4, 1.3, 2. , 0.2, 2.2, 0.2,\n",
              "                     1.5, 2.4, 0.2, 0.2, 1.3, 0.1], dtype=float32)>)])"
            ]
          },
          "metadata": {
            "tags": []
          },
          "execution_count": 7
        }
      ]
    },
    {
      "metadata": {
        "id": "ARoGU_9zX60t",
        "colab_type": "code",
        "outputId": "3f823263-6b43-40c9-801d-28047fb8aaae",
        "colab": {
          "base_uri": "https://localhost:8080/",
          "height": 361
        }
      },
      "cell_type": "code",
      "source": [
        "## Do a scatter plot so you can notice like features being grouped together\n",
        "\n",
        "## Create a scatter plot of features petal_length vs sepal_length\n",
        "plt.scatter(features['petal_length'],\n",
        "           features['sepal_length'],\n",
        "            ## Color \n",
        "           c = labels,\n",
        "            ## Color map\n",
        "           cmap = 'viridis')\n",
        "\n",
        "## Make the x-axis \"Petal Length\"\n",
        "plt.xlabel(\"Petal Length\")\n",
        "## Make the y-axis \"Sepal Length\"\n",
        "plt.ylabel(\"Sepal Length\");"
      ],
      "execution_count": 8,
      "outputs": [
        {
          "output_type": "display_data",
          "data": {
            "image/png": "[encoded data removed]",
            "text/plain": [
              "<matplotlib.figure.Figure at 0x7f4ec5610ef0>"
            ]
          },
          "metadata": {
            "tags": []
          }
        }
      ]
    },
    {
      "metadata": {
        "id": "qQl6SOWeYka_",
        "colab_type": "code",
        "colab": {}
      },
      "cell_type": "code",
      "source": [
        "## Takes the list of all tensors and stacks them into a single tensor\n",
        "def pack_features_vector(features, labels):\n",
        "  \"\"\"Pack the features into a single array\"\"\"\n",
        "  ## list() converts an iterable to a list\n",
        "  ## stack() stacks a list of R tensors into a tensor of rank R + 1\n",
        "  ## So this takes all the feature tensors and stacks them into a single feature\n",
        "  ## tensor\n",
        "  features = tf.stack(list(features.values()), axis = 1)\n",
        "  return features, labels"
      ],
      "execution_count": 0,
      "outputs": []
    },
    {
      "metadata": {
        "id": "3V2UwohLRoav",
        "colab_type": "code",
        "colab": {}
      },
      "cell_type": "code",
      "source": [
        "## Test to see what above transformation does\n",
        "#test, _ = pack_features_vector(features, labels)\n",
        "#print(test)"
      ],
      "execution_count": 0,
      "outputs": []
    },
    {
      "metadata": {
        "id": "Bfr5E95jZRAI",
        "colab_type": "code",
        "outputId": "924c6352-75e1-4835-ea62-3e0a1e746965",
        "colab": {
          "base_uri": "https://localhost:8080/",
          "height": 119
        }
      },
      "cell_type": "code",
      "source": [
        "## Map(func) applies the func to each element within the dataset \n",
        "## So the below applies the pack_feature_vector() operation to each element \n",
        "## within train_dataset\n",
        "train_dataset = train_dataset.map(pack_features_vector)\n",
        "\n",
        "## The iter() function creates an object that can be iterated one object at a \n",
        "## time\n",
        "## The next() function returns the next item in an iterator\n",
        "## SO the below iterates through the ddata moving onto the next item each time\n",
        "features, labels = next(iter(train_dataset))\n",
        "\n",
        "## Print the first 5 feature examples\n",
        "print(features[:5])"
      ],
      "execution_count": 11,
      "outputs": [
        {
          "output_type": "stream",
          "text": [
            "tf.Tensor(\n",
            "[[5.1 3.8 1.5 0.3]\n",
            " [5.  3.6 1.4 0.2]\n",
            " [5.8 2.8 5.1 2.4]\n",
            " [5.1 3.5 1.4 0.3]\n",
            " [7.6 3.  6.6 2.1]], shape=(5, 4), dtype=float32)\n"
          ],
          "name": "stdout"
        }
      ]
    },
    {
      "metadata": {
        "id": "eDEPsdBhaKk2",
        "colab_type": "text"
      },
      "cell_type": "markdown",
      "source": [
        "**Select The Type of Model**"
      ]
    },
    {
      "metadata": {
        "id": "3eODQjjtZhw3",
        "colab_type": "code",
        "outputId": "6a334f9b-74fd-4e82-e19e-bbb3ed8ead0a",
        "colab": {
          "base_uri": "https://localhost:8080/",
          "height": 238
        }
      },
      "cell_type": "code",
      "source": [
        "## tf.keras.Sequential() is a function that linearly combines a stack of layers\n",
        "model = tf.keras.Sequential([\n",
        "    ## The first layer has 10 nodes and so 10 outputs with an input specified as\n",
        "    ## 4 rows and however many columns and run the data through a relu function\n",
        "    ## before passing it on to the next layer\n",
        "    ## The parameters are equal to inputs (4) multiplied by nodes (10) plus \n",
        "    ## nodes (10) = 50\n",
        "    tf.keras.layers.Dense(10, activation = tf.nn.relu, input_shape = (4,)), ## Input shape required\n",
        "    ## The second layer has 10 nodes and so 10 outputs, it will take 10 inputs \n",
        "    ## from the layer before it and run the data through a relu function before\n",
        "    ## passing it on to the next layer.\n",
        "    ## This layer has 110 parameters (10 x 10 + 10)\n",
        "    tf.keras.layers.Dense(10, activation = tf.nn.relu),\n",
        "    ## The final layer has 3 nodes and so 3 outputs. It has 10 inputs from the \n",
        "    ## previous layer and doesn't have a non-linear function at the end\n",
        "    ## the parameters = 10 x 3 + 3 = 33\n",
        "    tf.keras.layers.Dense(3)\n",
        "])\n",
        "model.summary()"
      ],
      "execution_count": 12,
      "outputs": [
        {
          "output_type": "stream",
          "text": [
            "_________________________________________________________________\n",
            "Layer (type)                 Output Shape              Param #   \n",
            "=================================================================\n",
            "dense (Dense)                (None, 10)                50        \n",
            "_________________________________________________________________\n",
            "dense_1 (Dense)              (None, 10)                110       \n",
            "_________________________________________________________________\n",
            "dense_2 (Dense)              (None, 3)                 33        \n",
            "=================================================================\n",
            "Total params: 193\n",
            "Trainable params: 193\n",
            "Non-trainable params: 0\n",
            "_________________________________________________________________\n"
          ],
          "name": "stdout"
        }
      ]
    },
    {
      "metadata": {
        "id": "y4tZut6WR6YH",
        "colab_type": "text"
      },
      "cell_type": "markdown",
      "source": [
        "**Using The Model**"
      ]
    },
    {
      "metadata": {
        "id": "qZ36DQ5GRtJ7",
        "colab_type": "code",
        "outputId": "86d51fb5-0eab-4b53-f91d-5ac59b729325",
        "colab": {
          "base_uri": "https://localhost:8080/",
          "height": 119
        }
      },
      "cell_type": "code",
      "source": [
        "## Make some predictions with the untrained model\n",
        "\n",
        "## Feed the features into the model\n",
        "predictions = model(features)\n",
        "## Output the first 5 prediction tensors each one returns a logit\n",
        "predictions[:5]"
      ],
      "execution_count": 13,
      "outputs": [
        {
          "output_type": "execute_result",
          "data": {
            "text/plain": [
              "<tf.Tensor: id=217, shape=(5, 3), dtype=float32, numpy=\n",
              "array([[-2.8099854 ,  0.14638066,  2.4841747 ],\n",
              "       [-2.695194  ,  0.09787536,  2.4007497 ],\n",
              "       [-2.4783888 ,  0.87606144,  2.6059065 ],\n",
              "       [-2.6440458 ,  0.09550345,  2.433379  ],\n",
              "       [-3.1616611 ,  0.95119154,  3.2565322 ]], dtype=float32)>"
            ]
          },
          "metadata": {
            "tags": []
          },
          "execution_count": 13
        }
      ]
    },
    {
      "metadata": {
        "id": "JQhLeMyhSEpF",
        "colab_type": "code",
        "outputId": "cf6557fa-30fa-4ce4-ac65-399a4c1c76d8",
        "colab": {
          "base_uri": "https://localhost:8080/",
          "height": 119
        }
      },
      "cell_type": "code",
      "source": [
        "## To convert the logits into probabilities the logits must be run through a \n",
        "## softmax (non linear function) which is logit over the sum of all logits\n",
        "tf.nn.softmax(predictions[:5])"
      ],
      "execution_count": 14,
      "outputs": [
        {
          "output_type": "execute_result",
          "data": {
            "text/plain": [
              "<tf.Tensor: id=223, shape=(5, 3), dtype=float32, numpy=\n",
              "array([[0.00455792, 0.08763959, 0.9078025 ],\n",
              "       [0.00553437, 0.0903822 , 0.90408343],\n",
              "       [0.00523297, 0.14981927, 0.8449477 ],\n",
              "       [0.00565481, 0.08753652, 0.9068087 ],\n",
              "       [0.00148145, 0.09054727, 0.9079713 ]], dtype=float32)>"
            ]
          },
          "metadata": {
            "tags": []
          },
          "execution_count": 14
        }
      ]
    },
    {
      "metadata": {
        "id": "JZqQPgD8SvgB",
        "colab_type": "code",
        "outputId": "7f38b55c-85de-4679-a04f-ee353533fe8a",
        "colab": {
          "base_uri": "https://localhost:8080/",
          "height": 51
        }
      },
      "cell_type": "code",
      "source": [
        "## Output predictions by taking the prediction with the max probability\n",
        "print(\"Predictions: {} \".format(tf.argmax(predictions, axis = 1)))\n",
        "## Output the labels of the predictions\n",
        "print(\"Labels: {} \".format(labels))"
      ],
      "execution_count": 15,
      "outputs": [
        {
          "output_type": "stream",
          "text": [
            "Predictions: [2 2 2 2 2 2 2 2 2 2 2 2 2 2 2 2 2 2 2 2 2 2 2 2 2 2 2 2 2 2 2 2] \n",
            "Labels: [0 0 2 0 2 2 0 2 2 0 0 1 0 0 2 1 1 1 0 0 1 2 2 2 0 2 1 2 1 0 0 0] \n"
          ],
          "name": "stdout"
        }
      ]
    },
    {
      "metadata": {
        "id": "Mq7iSpEZTcH0",
        "colab_type": "text"
      },
      "cell_type": "markdown",
      "source": [
        "**Define The Loss and Gradient Function**"
      ]
    },
    {
      "metadata": {
        "id": "EhUhPnJtTGvp",
        "colab_type": "code",
        "outputId": "8df943d0-2019-4627-8505-1800cbcc0ca2",
        "colab": {
          "base_uri": "https://localhost:8080/",
          "height": 34
        }
      },
      "cell_type": "code",
      "source": [
        "## Run the difference between the predictions and actual results through a loss\n",
        "## function and sum them up\n",
        "def loss(model, x, y):\n",
        "  ## Generate predictions from the model\n",
        "  y_ = model(x)\n",
        "  ## Run the predictions and actual results through the\n",
        "  ## sparse_softmax_cross_entropy loss model\n",
        "  return tf.losses.sparse_softmax_cross_entropy(labels = y, logits = y_)\n",
        "\n",
        "## Run the above loss model for all the feature data\n",
        "l = loss(model, features, labels)\n",
        "## Print the loss from the loss model based on all feature data\n",
        "print(\"Loss test: {}\".format(l))"
      ],
      "execution_count": 16,
      "outputs": [
        {
          "output_type": "stream",
          "text": [
            "Loss test: 2.7815802097320557\n"
          ],
          "name": "stdout"
        }
      ]
    },
    {
      "metadata": {
        "id": "xc2j6yZpUBd3",
        "colab_type": "code",
        "colab": {}
      },
      "cell_type": "code",
      "source": [
        "## Calculate the gradient of the loss function wrt each paramter\n",
        "def grad(model, inputs, targets):\n",
        "  ## Activate gradient tape so that each operation will be stored on the tape\n",
        "  with tf.GradientTape() as tape:\n",
        "    ## Run the loss model under activated grdient tape\n",
        "    loss_value = loss(model, inputs, targets)\n",
        "  ## Return the loss value and the gradient wrt each parameter\n",
        "  return loss_value, tape.gradient(loss_value, model.trainable_variables)"
      ],
      "execution_count": 0,
      "outputs": []
    },
    {
      "metadata": {
        "id": "zlWf7grFUhCZ",
        "colab_type": "code",
        "colab": {}
      },
      "cell_type": "code",
      "source": [
        "## Set up gradient descent algorithm with a learning rate of 0.01\n",
        "optimizer = tf.train.GradientDescentOptimizer(learning_rate = 0.01)\n",
        "\n",
        "## Counter variable to count steps when optimising\n",
        "global_step = tf.contrib.eager.Variable(0)"
      ],
      "execution_count": 0,
      "outputs": []
    },
    {
      "metadata": {
        "id": "FYv7okBOU-iI",
        "colab_type": "code",
        "outputId": "cfb8182f-eaf2-4240-8f09-0c620aca9dbf",
        "colab": {
          "base_uri": "https://localhost:8080/",
          "height": 51
        }
      },
      "cell_type": "code",
      "source": [
        "## Run and view the effects of gradient descent optimisation after 1 iteration\n",
        "\n",
        "## Run the gradient function to get the losses and gradients\n",
        "loss_value, grads = grad(model, features, labels)\n",
        "\n",
        "## Output the curent step and initial loss value\n",
        "print(\"Step: {}, Initial Loss: {}\".format(global_step.numpy(),\n",
        "                                         loss_value.numpy()))\n",
        "\n",
        "## The zip() function returns an iterator of tuples\n",
        "## optimizer.apply_gradients() applies the gradients of the most recent loss \n",
        "## function to the model parameters \n",
        "optimizer.apply_gradients(zip(grads, model.variables), global_step)\n",
        "\n",
        "## Output step and loss after an iteration of grdient descent optimisation\n",
        "print(\"Step: {},         Loss: {}\".format(global_step.numpy(),\n",
        "                                         loss(model, features, labels).numpy()))"
      ],
      "execution_count": 19,
      "outputs": [
        {
          "output_type": "stream",
          "text": [
            "Step: 0, Initial Loss: 2.7815802097320557\n",
            "Step: 1,         Loss: 2.422778606414795\n"
          ],
          "name": "stdout"
        }
      ]
    },
    {
      "metadata": {
        "id": "qm8FXq_4WA3g",
        "colab_type": "code",
        "outputId": "72c258f0-a273-41c7-a66f-ad5a88078f54",
        "colab": {
          "base_uri": "https://localhost:8080/",
          "height": 102
        }
      },
      "cell_type": "code",
      "source": [
        "## Note: Rerunning this cell uses the same model variables\n",
        "\n",
        "# keep results for plotting\n",
        "## Create empty list to append losses from model after each epoch\n",
        "train_loss_results = []\n",
        "## Create empty list to append accuracy from model after each epoch\n",
        "train_accuracy_results = []\n",
        "\n",
        "## Number of times optimiser will run through the data (epoch)\n",
        "num_epochs = 201\n",
        "\n",
        "## Will iterate through the data 201 times\n",
        "for epoch in range(num_epochs):\n",
        "  ## Store the function for calculating the mean in epoch_loss_avg\n",
        "  epoch_loss_avg = tf.contrib.eager.metrics.Mean()\n",
        "  ## Store the function for calculating the accuracy in epoch_accuracy\n",
        "  epoch_accuracy = tf.contrib.eager.metrics.Accuracy()\n",
        "\n",
        "  \n",
        "  # Training loop - using batches of 32\n",
        "  ## Iterate through the whole dataset running batches of 32 examples at a time\n",
        "  for x, y in train_dataset:\n",
        "    # Optimize the model\n",
        "    ## Calculate the loss and gradients\n",
        "    loss_value, grads = grad(model, x, y)\n",
        "    ## Apply the gradients of the current loss function to all parameters to \n",
        "    ## hopefully bring them closer to optimal values\n",
        "    optimizer.apply_gradients(zip(grads, model.variables),\n",
        "                              global_step)\n",
        "\n",
        "    # Track progress\n",
        "    ## Calculate the loss at each epoch\n",
        "    epoch_loss_avg(loss_value)  # add current batch loss\n",
        "    # compare predicted label to actual label\n",
        "    ## Calculate the accuracy at each epoch\n",
        "    epoch_accuracy(tf.argmax(model(x), axis=1, output_type = tf.int32), y)\n",
        "\n",
        "  # end epoch\n",
        "  ## Once an epoch is run append the average loss to the list train_loss_results\n",
        "  train_loss_results.append(epoch_loss_avg.result())\n",
        "  ## Once an epoch is run append the average accuracy to the list \n",
        "  ## train_accuracy_results\n",
        "  train_accuracy_results.append(epoch_accuracy.result())\n",
        "  \n",
        "  ## Every 50 epochs output a summary of accuracy and losses\n",
        "  if epoch % 50 == 0:\n",
        "    ## Output summary of where the model is up to in training as well as average \n",
        "    ## loss and accuracy for latest epoch\n",
        "    print(\"Epoch {:03d}: Loss: {:.3f}, Accuracy: {:.3%}\".format(epoch,\n",
        "                                                                epoch_loss_avg.result(),\n",
        "                                                                epoch_accuracy.result()))\n"
      ],
      "execution_count": 20,
      "outputs": [
        {
          "output_type": "stream",
          "text": [
            "Epoch 000: Loss: 1.906, Accuracy: 35.000%\n",
            "Epoch 050: Loss: 0.485, Accuracy: 70.000%\n",
            "Epoch 100: Loss: 0.314, Accuracy: 93.333%\n",
            "Epoch 150: Loss: 0.206, Accuracy: 98.333%\n",
            "Epoch 200: Loss: 0.155, Accuracy: 97.500%\n"
          ],
          "name": "stdout"
        }
      ]
    },
    {
      "metadata": {
        "id": "1UsaB86xn-u-",
        "colab_type": "text"
      },
      "cell_type": "markdown",
      "source": [
        "**Visualising The Loss Function Over Time**"
      ]
    },
    {
      "metadata": {
        "id": "nU78jk_WYsMX",
        "colab_type": "code",
        "outputId": "c58b83ca-5afe-4667-d6d7-0e7d806b18c4",
        "colab": {
          "base_uri": "https://localhost:8080/",
          "height": 558
        }
      },
      "cell_type": "code",
      "source": [
        "## plt.subplots() adds a subplot to the current figure storing that plot as fig\n",
        "fig, axes = plt.subplots(2, sharex = True, figsize = (12, 8))\n",
        "## Adds a subtitle to the figure fig of \"Training Metrics\"\n",
        "fig.suptitle('Training Metrics')\n",
        "\n",
        "## On the first plot label the Y-axis \"Loss\" at size 14 font\n",
        "axes[0].set_ylabel(\"Loss\", fontsize = 14)\n",
        "## Plot the train_loss_results on the first plot\n",
        "axes[0].plot(train_loss_results)\n",
        "\n",
        "## On the second plot label the Y-axis \"accuracy\"\n",
        "axes[1].set_ylabel(\"accuracy\", fontsize = 14)\n",
        "## On the second plot label the X-axis \"Epoch\"\n",
        "axes[1].set_xlabel(\"Epoch\", fontsize = 14)\n",
        "## On the second graph plot the train_accuracy results\n",
        "axes[1].plot(train_accuracy_results);"
      ],
      "execution_count": 21,
      "outputs": [
        {
          "output_type": "display_data",
          "data": {
            "image/png": "[encoded data removed]",
            "text/plain": [
              "<matplotlib.figure.Figure at 0x7f4e86cce7b8>"
            ]
          },
          "metadata": {
            "tags": []
          }
        }
      ]
    },
    {
      "metadata": {
        "id": "dXgMH8w1pilp",
        "colab_type": "text"
      },
      "cell_type": "markdown",
      "source": [
        "**Evaluate The Models Effectivness**\n",
        "\n",
        "Setup The Test Dataset\n",
        "\n"
      ]
    },
    {
      "metadata": {
        "id": "xUSeO025nR2b",
        "colab_type": "code",
        "colab": {
          "base_uri": "https://localhost:8080/",
          "height": 71
        },
        "outputId": "2781935f-3373-480d-bcaa-f750a1e8d6b2"
      },
      "cell_type": "code",
      "source": [
        "## Download the test iris data. Additional data not used in the training process\n",
        "## to test out the model with out of sample data\n",
        "test_url = \"http://download.tensorflow.org/data/iris_test.csv\"\n",
        "\n",
        "test_fp = tf.keras.utils.get_file(fname = os.path.basename(test_url), origin = test_url)"
      ],
      "execution_count": 22,
      "outputs": [
        {
          "output_type": "stream",
          "text": [
            "Downloading data from http://download.tensorflow.org/data/iris_test.csv\n",
            "8192/573 [============================================================================================================================================================================================================================================================================================================================================================================================================================================] - 0s 0us/step\n"
          ],
          "name": "stdout"
        }
      ]
    },
    {
      "metadata": {
        "id": "7QnJd21kujqX",
        "colab_type": "code",
        "colab": {}
      },
      "cell_type": "code",
      "source": [
        "## The make_csv_dataset loads csv's into tensorflow\n",
        "test_dataset = tf.contrib.data.make_csv_dataset(\n",
        "    ## This time we are loading in the test data \n",
        "    test_fp,\n",
        "    ## batch_size specifies how many examples/ data points will be processed at\n",
        "    ## once.\n",
        "    batch_size,\n",
        "    ## column_names is a list of strings representing the names of each column\n",
        "    column_names = column_names,\n",
        "    ## label_name is the name of the value the model is trying to predict\n",
        "    label_name = 'species',\n",
        "    ## num_epochs is the number of times the training will run through the data\n",
        "    num_epochs = 1,\n",
        "    ## shuffle tells tensorflow to switch the order of the data every training\n",
        "    shuffle = False)\n",
        "\n",
        "## pack_features_vector takes all the tensors in test_dataset and packs them \n",
        "## into one. Map() does this for every value in the tensor\n",
        "## So each value in the tensor is being packed into one tensor\n",
        "test_dataset = test_dataset.map(pack_features_vector)"
      ],
      "execution_count": 0,
      "outputs": []
    },
    {
      "metadata": {
        "id": "d_04GrhxvkwL",
        "colab_type": "text"
      },
      "cell_type": "markdown",
      "source": [
        "Evaluate The Model on The Test Data"
      ]
    },
    {
      "metadata": {
        "id": "PXjNCct9vLke",
        "colab_type": "code",
        "outputId": "ac07b669-972b-49c0-f840-63832a5177ac",
        "colab": {
          "base_uri": "https://localhost:8080/",
          "height": 34
        }
      },
      "cell_type": "code",
      "source": [
        "## assign accuracy testing function to test_accuracy\n",
        "test_accuracy = tf.contrib.eager.metrics.Accuracy()\n",
        "\n",
        "## loop through each datapoint in the test dataset\n",
        "for (x, y) in test_dataset:\n",
        "  ## Run the explanatory data through the model\n",
        "  logits = model(x)\n",
        "  ## Find the prediction by taking the label with the highest probability\n",
        "  prediction = tf.argmax(logits, axis = 1, output_type = tf.int32)\n",
        "  ## Compare the prediction to the actual value to compare how often they match\n",
        "  test_accuracy(prediction, y)\n",
        "  \n",
        "## Output the accuracy of predictions (correct_predictions/all_predictions)\n",
        "print(\"Test set accuracy: {:.3f}\".format(test_accuracy.result()))"
      ],
      "execution_count": 24,
      "outputs": [
        {
          "output_type": "stream",
          "text": [
            "Test set accuracy: 0.967\n"
          ],
          "name": "stdout"
        }
      ]
    },
    {
      "metadata": {
        "id": "4Dqmdt4l29Bz",
        "colab_type": "text"
      },
      "cell_type": "markdown",
      "source": [
        "**Use The Trained Model to Make Predictions**"
      ]
    },
    {
      "metadata": {
        "id": "B0atNs9-2xTW",
        "colab_type": "code",
        "outputId": "d0e3aee0-d0fd-451e-ac44-b8d80ae8c643",
        "colab": {
          "base_uri": "https://localhost:8080/",
          "height": 68
        }
      },
      "cell_type": "code",
      "source": [
        "## convert some fresh data to a tensor\n",
        "predict_dataset = tf.convert_to_tensor([\n",
        "    [5.1, 3.3, 1.7, 0.5,],\n",
        "    [5.9, 3.0, 4.2, 1.5,],\n",
        "    [6.9, 3.1, 5.4, 2.1,]\n",
        "])\n",
        "\n",
        "## Use the model to make some predictions with this new data\n",
        "predictions = model(predict_dataset)\n",
        "\n",
        "## Loopthrough all predictions using enumerate() to get two things at once from\n",
        "## the data the prediction number and the actual prediction\n",
        "for i, logits in enumerate(predictions):\n",
        "  ## Choose the label with the highest probability\n",
        "  class_idx = tf.argmax(logits).numpy()\n",
        "  ## Put the highest probability over the sum of all other probabilities \n",
        "  ## (softmax)\n",
        "  p = tf.nn.softmax(logits)[class_idx]\n",
        "  ## Look up the name of the predcted class\n",
        "  name = class_names[class_idx]\n",
        "  ## Output the prediction number, label and probability\n",
        "  print(\"Example {} predictions: {} ({:4.1f}%)\".format(i, name, 100*p))"
      ],
      "execution_count": 25,
      "outputs": [
        {
          "output_type": "stream",
          "text": [
            "Example 0 predictions: Iris Setosa (98.5%)\n",
            "Example 1 predictions: Iris Versicolor (93.6%)\n",
            "Example 2 predictions: Iris Virginica (56.1%)\n"
          ],
          "name": "stdout"
        }
      ]
    },
    {
      "metadata": {
        "id": "mogmDPZS4QPH",
        "colab_type": "code",
        "colab": {}
      },
      "cell_type": "code",
      "source": [
        ""
      ],
      "execution_count": 0,
      "outputs": []
    }
  ]
}