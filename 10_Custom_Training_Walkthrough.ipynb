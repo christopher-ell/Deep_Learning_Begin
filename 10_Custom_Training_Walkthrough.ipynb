{
  "nbformat": 4,
  "nbformat_minor": 0,
  "metadata": {
    "colab": {
      "name": "10. Custom: Training Walkthrough.ipynb",
      "version": "0.3.2",
      "provenance": [],
      "collapsed_sections": [],
      "include_colab_link": true
    },
    "kernelspec": {
      "name": "python3",
      "display_name": "Python 3"
    }
  },
  "cells": [
    {
      "cell_type": "markdown",
      "metadata": {
        "id": "view-in-github",
        "colab_type": "text"
      },
      "source": [
        "<a href=\"https://colab.research.google.com/github/christopher-ell/Deep_Learning_Begin/blob/master/10_Custom_Training_Walkthrough.ipynb\" target=\"_parent\"><img src=\"https://colab.research.google.com/assets/colab-badge.svg\" alt=\"Open In Colab\"/></a>"
      ]
    },
    {
      "metadata": {
        "id": "4oW0x44tSw06",
        "colab_type": "text"
      },
      "cell_type": "markdown",
      "source": [
        "Source: https://www.tensorflow.org/tutorials/eager/custom_training_walkthrough"
      ]
    },
    {
      "metadata": {
        "id": "pvSKkJ9cSom-",
        "colab_type": "code",
        "outputId": "2c15e686-a992-483a-8941-1ed7d0726410",
        "colab": {
          "base_uri": "https://localhost:8080/",
          "height": 51
        }
      },
      "cell_type": "code",
      "source": [
        "from __future__ import absolute_import, division, print_function\n",
        "\n",
        "import os\n",
        "import matplotlib.pyplot as plt\n",
        "\n",
        "import tensorflow as tf\n",
        "\n",
        "tf.enable_eager_execution()\n",
        "\n",
        "print(\"Tensorflow Version: {}\".format(tf.__version__))\n",
        "print(\"Eager Execution: {}\".format(tf.executing_eagerly()))"
      ],
      "execution_count": 24,
      "outputs": [
        {
          "output_type": "stream",
          "text": [
            "Tensorflow Version: 1.12.0\n",
            "Eager Execution: True\n"
          ],
          "name": "stdout"
        }
      ]
    },
    {
      "metadata": {
        "id": "9gm-HiNAT7ET",
        "colab_type": "text"
      },
      "cell_type": "markdown",
      "source": [
        "**The Iris Classification Problem**\n",
        "\n",
        "Import and Pars the Training Dataset"
      ]
    },
    {
      "metadata": {
        "id": "WOehi8LoSzX3",
        "colab_type": "code",
        "outputId": "6118aee8-78e6-453b-c12d-781ea657755c",
        "colab": {
          "base_uri": "https://localhost:8080/",
          "height": 34
        }
      },
      "cell_type": "code",
      "source": [
        "train_dataset_url = \"http://download.tensorflow.org/data/iris_training.csv\"\n",
        "train_dataset_fp = tf.keras.utils.get_file(fname = os.path.basename(train_dataset_url), \n",
        "                                          origin = train_dataset_url)\n",
        "\n",
        "print(\"Local copy of the dataset file: {}\".format(train_dataset_fp))"
      ],
      "execution_count": 25,
      "outputs": [
        {
          "output_type": "stream",
          "text": [
            "Local copy of the dataset file: /root/.keras/datasets/iris_training.csv\n"
          ],
          "name": "stdout"
        }
      ]
    },
    {
      "metadata": {
        "id": "xtxXmnzsVCg1",
        "colab_type": "text"
      },
      "cell_type": "markdown",
      "source": [
        "Inspect The Data"
      ]
    },
    {
      "metadata": {
        "id": "Azn6gss6U9uP",
        "colab_type": "code",
        "outputId": "3264b397-06e1-4daa-bbda-061bc90be772",
        "colab": {
          "base_uri": "https://localhost:8080/",
          "height": 102
        }
      },
      "cell_type": "code",
      "source": [
        "!head -n5 {train_dataset_fp}"
      ],
      "execution_count": 26,
      "outputs": [
        {
          "output_type": "stream",
          "text": [
            "120,4,setosa,versicolor,virginica\n",
            "6.4,2.8,5.6,2.2,2\n",
            "5.0,2.3,3.3,1.0,1\n",
            "4.9,2.5,4.5,1.7,2\n",
            "4.9,3.1,1.5,0.1,0\n"
          ],
          "name": "stdout"
        }
      ]
    },
    {
      "metadata": {
        "id": "n9hCA3fNVPEy",
        "colab_type": "code",
        "outputId": "df2ab968-72cc-4f9f-bf34-ab5d78691f32",
        "colab": {
          "base_uri": "https://localhost:8080/",
          "height": 51
        }
      },
      "cell_type": "code",
      "source": [
        "# Column order in csv file\n",
        "column_names = ['sepal_length', 'sepal_width', 'petal_length', 'petal_width', 'speices']\n",
        "\n",
        "feature_names = column_names[:-1]\n",
        "label_name = column_names[-1]\n",
        "\n",
        "print(\"Features: {}\".format(feature_names))\n",
        "print(\"Label: {}\".format(label_name))"
      ],
      "execution_count": 27,
      "outputs": [
        {
          "output_type": "stream",
          "text": [
            "Features: ['sepal_length', 'sepal_width', 'petal_length', 'petal_width']\n",
            "Label: speices\n"
          ],
          "name": "stdout"
        }
      ]
    },
    {
      "metadata": {
        "id": "n3ECt7lXWMfF",
        "colab_type": "code",
        "colab": {}
      },
      "cell_type": "code",
      "source": [
        "class_names = ['Iris Setosa', 'Iris Versicolor', 'Iris Virginica']"
      ],
      "execution_count": 0,
      "outputs": []
    },
    {
      "metadata": {
        "id": "QlnSpmD9W4np",
        "colab_type": "text"
      },
      "cell_type": "markdown",
      "source": [
        "Create a tf.data.dataset"
      ]
    },
    {
      "metadata": {
        "id": "Tse3zmNmW1tB",
        "colab_type": "code",
        "colab": {}
      },
      "cell_type": "code",
      "source": [
        "batch_size = 32\n",
        "\n",
        "train_dataset = tf.contrib.data.make_csv_dataset(\n",
        "    train_dataset_fp,\n",
        "    batch_size,\n",
        "    column_names = column_names,\n",
        "    label_name = label_name,\n",
        "    num_epochs = 1)"
      ],
      "execution_count": 0,
      "outputs": []
    },
    {
      "metadata": {
        "id": "MxfIddMfXpKo",
        "colab_type": "code",
        "outputId": "f08e9320-7776-4619-f60f-2324cfb9eba6",
        "colab": {
          "base_uri": "https://localhost:8080/",
          "height": 357
        }
      },
      "cell_type": "code",
      "source": [
        "features, labels = next(iter(train_dataset))\n",
        "\n",
        "features"
      ],
      "execution_count": 30,
      "outputs": [
        {
          "output_type": "execute_result",
          "data": {
            "text/plain": [
              "OrderedDict([('sepal_length',\n",
              "              <tf.Tensor: id=123200, shape=(32,), dtype=float32, numpy=\n",
              "              array([4.9, 5. , 5. , 6. , 7.7, 6.3, 6.5, 4.4, 5.4, 5.6, 6.2, 6.1, 5.8,\n",
              "                     4.7, 6.4, 6.5, 5.7, 4.7, 6.8, 5.1, 6.1, 5.4, 6.8, 4.9, 6.7, 4.8,\n",
              "                     6. , 5. , 6.7, 7.6, 6.9, 4.9], dtype=float32)>),\n",
              "             ('sepal_width',\n",
              "              <tf.Tensor: id=123201, shape=(32,), dtype=float32, numpy=\n",
              "              array([3. , 2.3, 3.4, 2.9, 2.6, 3.4, 3.2, 2.9, 3.7, 2.9, 2.8, 3. , 2.7,\n",
              "                     3.2, 3.2, 3. , 2.8, 3.2, 3.2, 3.5, 2.9, 3.9, 2.8, 3.1, 3.3, 3. ,\n",
              "                     2.2, 3.4, 3. , 3. , 3.2, 2.4], dtype=float32)>),\n",
              "             ('petal_length',\n",
              "              <tf.Tensor: id=123198, shape=(32,), dtype=float32, numpy=\n",
              "              array([1.4, 3.3, 1.5, 4.5, 6.9, 5.6, 5.1, 1.4, 1.5, 3.6, 4.8, 4.9, 5.1,\n",
              "                     1.3, 5.3, 5.2, 4.1, 1.6, 5.9, 1.4, 4.7, 1.7, 4.8, 1.5, 5.7, 1.4,\n",
              "                     5. , 1.6, 5. , 6.6, 5.7, 3.3], dtype=float32)>),\n",
              "             ('petal_width',\n",
              "              <tf.Tensor: id=123199, shape=(32,), dtype=float32, numpy=\n",
              "              array([0.2, 1. , 0.2, 1.5, 2.3, 2.4, 2. , 0.2, 0.2, 1.3, 1.8, 1.8, 1.9,\n",
              "                     0.2, 2.3, 2. , 1.3, 0.2, 2.3, 0.3, 1.4, 0.4, 1.4, 0.1, 2.1, 0.3,\n",
              "                     1.5, 0.4, 1.7, 2.1, 2.3, 1. ], dtype=float32)>)])"
            ]
          },
          "metadata": {
            "tags": []
          },
          "execution_count": 30
        }
      ]
    },
    {
      "metadata": {
        "id": "ARoGU_9zX60t",
        "colab_type": "code",
        "outputId": "3f0fd50f-fb6a-4fc0-ae96-0bc31b2279d3",
        "colab": {
          "base_uri": "https://localhost:8080/",
          "height": 361
        }
      },
      "cell_type": "code",
      "source": [
        "plt.scatter(features['petal_length'],\n",
        "           features['sepal_length'],\n",
        "           c = labels,\n",
        "           cmap = 'viridis')\n",
        "\n",
        "plt.xlabel(\"Petal Length\")\n",
        "plt.ylabel(\"Sepal Length\");"
      ],
      "execution_count": 31,
      "outputs": [
        {
          "output_type": "display_data",
          "data": {
            "image/png": "[encoded data removed]",
            "text/plain": [
              "<matplotlib.figure.Figure at 0x7fbac931e748>"
            ]
          },
          "metadata": {
            "tags": []
          }
        }
      ]
    },
    {
      "metadata": {
        "id": "qQl6SOWeYka_",
        "colab_type": "code",
        "colab": {}
      },
      "cell_type": "code",
      "source": [
        "def pack_features_vector(features, labels):\n",
        "  \"\"\"Pack the features into a single array\"\"\"\n",
        "  features = tf.stack(list(features.values()), axis = 1)\n",
        "  return features, labels"
      ],
      "execution_count": 0,
      "outputs": []
    },
    {
      "metadata": {
        "id": "Bfr5E95jZRAI",
        "colab_type": "code",
        "outputId": "c757f61e-cee8-42c5-f005-4fb9831156ca",
        "colab": {
          "base_uri": "https://localhost:8080/",
          "height": 119
        }
      },
      "cell_type": "code",
      "source": [
        "train_dataset = train_dataset.map(pack_features_vector)\n",
        "\n",
        "features, labels = next(iter(train_dataset))\n",
        "\n",
        "print(features[:5])"
      ],
      "execution_count": 33,
      "outputs": [
        {
          "output_type": "stream",
          "text": [
            "tf.Tensor(\n",
            "[[7.7 3.  6.1 2.3]\n",
            " [6.3 2.7 4.9 1.8]\n",
            " [5.  3.6 1.4 0.2]\n",
            " [6.1 2.6 5.6 1.4]\n",
            " [6.  2.9 4.5 1.5]], shape=(5, 4), dtype=float32)\n"
          ],
          "name": "stdout"
        }
      ]
    },
    {
      "metadata": {
        "id": "eDEPsdBhaKk2",
        "colab_type": "text"
      },
      "cell_type": "markdown",
      "source": [
        "**Select The Type of Model**"
      ]
    },
    {
      "metadata": {
        "id": "3eODQjjtZhw3",
        "colab_type": "code",
        "colab": {}
      },
      "cell_type": "code",
      "source": [
        "model = tf.keras.Sequential([\n",
        "    tf.keras.layers.Dense(10, activation = tf.nn.relu, input_shape = (4,)), ## Input shape required\n",
        "    tf.keras.layers.Dense(10, activation = tf.nn.relu),\n",
        "    tf.keras.layers.Dense(3)\n",
        "])"
      ],
      "execution_count": 0,
      "outputs": []
    },
    {
      "metadata": {
        "id": "y4tZut6WR6YH",
        "colab_type": "text"
      },
      "cell_type": "markdown",
      "source": [
        "**Using The Model**"
      ]
    },
    {
      "metadata": {
        "id": "qZ36DQ5GRtJ7",
        "colab_type": "code",
        "outputId": "94662c59-777f-4f60-cb7f-c701c3b1118c",
        "colab": {
          "base_uri": "https://localhost:8080/",
          "height": 119
        }
      },
      "cell_type": "code",
      "source": [
        "predictions = model(features)\n",
        "predictions[:5]"
      ],
      "execution_count": 35,
      "outputs": [
        {
          "output_type": "execute_result",
          "data": {
            "text/plain": [
              "<tf.Tensor: id=123349, shape=(5, 3), dtype=float32, numpy=\n",
              "array([[ 1.3911598 , -0.8721247 ,  0.4052949 ],\n",
              "       [ 1.1698344 , -0.7464029 ,  0.29698932],\n",
              "       [ 1.5382977 , -0.6849928 ,  1.3240206 ],\n",
              "       [ 1.009401  , -0.7805333 ,  0.5322597 ],\n",
              "       [ 1.153231  , -0.7450854 ,  0.26308107]], dtype=float32)>"
            ]
          },
          "metadata": {
            "tags": []
          },
          "execution_count": 35
        }
      ]
    },
    {
      "metadata": {
        "id": "JQhLeMyhSEpF",
        "colab_type": "code",
        "outputId": "270343d2-19ac-4010-f1b0-0391229a905b",
        "colab": {
          "base_uri": "https://localhost:8080/",
          "height": 119
        }
      },
      "cell_type": "code",
      "source": [
        "tf.nn.softmax(predictions[:5])"
      ],
      "execution_count": 36,
      "outputs": [
        {
          "output_type": "execute_result",
          "data": {
            "text/plain": [
              "<tf.Tensor: id=123355, shape=(5, 3), dtype=float32, numpy=\n",
              "array([[0.6769909 , 0.07041269, 0.2525964 ],\n",
              "       [0.63900995, 0.09403647, 0.26695362],\n",
              "       [0.52209044, 0.0565175 , 0.4213921 ],\n",
              "       [0.5594324 , 0.09340907, 0.3471585 ],\n",
              "       [0.64085525, 0.09601334, 0.26313144]], dtype=float32)>"
            ]
          },
          "metadata": {
            "tags": []
          },
          "execution_count": 36
        }
      ]
    },
    {
      "metadata": {
        "id": "JZqQPgD8SvgB",
        "colab_type": "code",
        "outputId": "38506594-cff2-495c-d088-24700b5a0a9a",
        "colab": {
          "base_uri": "https://localhost:8080/",
          "height": 51
        }
      },
      "cell_type": "code",
      "source": [
        "print(\"Predictions: {} \".format(tf.argmax(predictions, axis = 1)))\n",
        "print(\"Labels: {} \".format(labels))"
      ],
      "execution_count": 37,
      "outputs": [
        {
          "output_type": "stream",
          "text": [
            "Predictions: [0 0 0 0 0 0 0 0 0 0 0 0 0 0 0 0 0 0 0 0 0 0 0 0 0 0 0 0 0 0 0 0] \n",
            "Labels: [2 2 0 2 1 2 1 2 1 2 1 1 0 0 0 0 2 2 0 0 2 2 1 1 0 0 1 1 2 1 0 1] \n"
          ],
          "name": "stdout"
        }
      ]
    },
    {
      "metadata": {
        "id": "Mq7iSpEZTcH0",
        "colab_type": "text"
      },
      "cell_type": "markdown",
      "source": [
        "**Define The Loss and Gradient Function**"
      ]
    },
    {
      "metadata": {
        "id": "EhUhPnJtTGvp",
        "colab_type": "code",
        "outputId": "ea624fc5-6e13-40fe-e0d9-b6c28a7358cd",
        "colab": {
          "base_uri": "https://localhost:8080/",
          "height": 34
        }
      },
      "cell_type": "code",
      "source": [
        "def loss(model, x, y):\n",
        "  y_ = model(x)\n",
        "  return tf.losses.sparse_softmax_cross_entropy(labels = y, logits = y_)\n",
        "\n",
        "l = loss(model, features, labels)\n",
        "print(\"Loss test: {}\".format(l))"
      ],
      "execution_count": 38,
      "outputs": [
        {
          "output_type": "stream",
          "text": [
            "Loss test: 1.4389609098434448\n"
          ],
          "name": "stdout"
        }
      ]
    },
    {
      "metadata": {
        "id": "xc2j6yZpUBd3",
        "colab_type": "code",
        "colab": {}
      },
      "cell_type": "code",
      "source": [
        "def grad(model, inputs, targets):\n",
        "  with tf.GradientTape() as tape:\n",
        "    loss_value = loss(model, inputs, targets)\n",
        "  return loss_value, tape.gradient(loss_value, model.trainable_variables)"
      ],
      "execution_count": 0,
      "outputs": []
    },
    {
      "metadata": {
        "id": "zlWf7grFUhCZ",
        "colab_type": "code",
        "colab": {}
      },
      "cell_type": "code",
      "source": [
        "optimizer = tf.train.GradientDescentOptimizer(learning_rate = 0.01)\n",
        "\n",
        "global_step = tf.contrib.eager.Variable(0)"
      ],
      "execution_count": 0,
      "outputs": []
    },
    {
      "metadata": {
        "id": "FYv7okBOU-iI",
        "colab_type": "code",
        "outputId": "d1a4173e-7096-4aab-8cb1-5e68dc700038",
        "colab": {
          "base_uri": "https://localhost:8080/",
          "height": 51
        }
      },
      "cell_type": "code",
      "source": [
        "loss_value, grads = grad(model, features, labels)\n",
        "\n",
        "print(\"Step: {}, Initial Loss: {}\".format(global_step.numpy(),\n",
        "                                         loss_value.numpy()))\n",
        "\n",
        "optimizer.apply_gradients(zip(grads, model.variables), global_step)\n",
        "\n",
        "print(\"Step: {},         Loss: {}\".format(global_step.numpy(),\n",
        "                                         loss(model, features, labels).numpy()))"
      ],
      "execution_count": 41,
      "outputs": [
        {
          "output_type": "stream",
          "text": [
            "Step: 0, Initial Loss: 1.4389609098434448\n",
            "Step: 1,         Loss: 1.3202431201934814\n"
          ],
          "name": "stdout"
        }
      ]
    },
    {
      "metadata": {
        "id": "qm8FXq_4WA3g",
        "colab_type": "code",
        "outputId": "f41ce0da-2e39-4ba6-dbd2-2b1b796a3918",
        "colab": {
          "base_uri": "https://localhost:8080/",
          "height": 102
        }
      },
      "cell_type": "code",
      "source": [
        "## Note: Rerunning this cell uses the same model variables\n",
        "\n",
        "# keep results for plotting\n",
        "train_loss_results = []\n",
        "train_accuracy_results = []\n",
        "\n",
        "num_epochs = 201\n",
        "\n",
        "for epoch in range(num_epochs):\n",
        "  epoch_loss_avg = tf.contrib.eager.metrics.Mean()\n",
        "  epoch_accuracy = tf.contrib.eager.metrics.Accuracy()\n",
        "\n",
        "  # Training loop - using batches of 32\n",
        "  for x, y in train_dataset:\n",
        "    # Optimize the model\n",
        "    loss_value, grads = grad(model, x, y)\n",
        "    optimizer.apply_gradients(zip(grads, model.variables),\n",
        "                              global_step)\n",
        "\n",
        "    # Track progress\n",
        "    epoch_loss_avg(loss_value)  # add current batch loss\n",
        "    # compare predicted label to actual label\n",
        "    epoch_accuracy(tf.argmax(model(x), axis=1, output_type = tf.int32), y)\n",
        "\n",
        "  # end epoch\n",
        "  train_loss_results.append(epoch_loss_avg.result())\n",
        "  train_accuracy_results.append(epoch_accuracy.result())\n",
        "  \n",
        "  if epoch % 50 == 0:\n",
        "    print(\"Epoch {:03d}: Loss: {:.3f}, Accuracy: {:.3%}\".format(epoch,\n",
        "                                                                epoch_loss_avg.result(),\n",
        "                                                                epoch_accuracy.result()))\n"
      ],
      "execution_count": 42,
      "outputs": [
        {
          "output_type": "stream",
          "text": [
            "Epoch 000: Loss: 1.197, Accuracy: 41.667%\n",
            "Epoch 050: Loss: 0.389, Accuracy: 90.000%\n",
            "Epoch 100: Loss: 0.265, Accuracy: 95.000%\n",
            "Epoch 150: Loss: 0.194, Accuracy: 99.167%\n",
            "Epoch 200: Loss: 0.145, Accuracy: 97.500%\n"
          ],
          "name": "stdout"
        }
      ]
    },
    {
      "metadata": {
        "id": "1UsaB86xn-u-",
        "colab_type": "text"
      },
      "cell_type": "markdown",
      "source": [
        "**Visualising The Loss Function Over Time**"
      ]
    },
    {
      "metadata": {
        "id": "nU78jk_WYsMX",
        "colab_type": "code",
        "colab": {}
      },
      "cell_type": "code",
      "source": [
        " "
      ],
      "execution_count": 0,
      "outputs": []
    },
    {
      "metadata": {
        "id": "xUSeO025nR2b",
        "colab_type": "code",
        "colab": {}
      },
      "cell_type": "code",
      "source": [
        ""
      ],
      "execution_count": 0,
      "outputs": []
    }
  ]
}