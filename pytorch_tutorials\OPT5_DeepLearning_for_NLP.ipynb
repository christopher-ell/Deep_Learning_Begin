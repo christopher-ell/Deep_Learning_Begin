{
  "nbformat": 4,
  "nbformat_minor": 0,
  "metadata": {
    "colab": {
      "name": "OPT5_DeepLearning_for_NLP.ipynb",
      "version": "0.3.2",
      "provenance": [],
      "collapsed_sections": [],
      "include_colab_link": true
    }
  },
  "cells": [
    {
      "cell_type": "markdown",
      "metadata": {
        "id": "view-in-github",
        "colab_type": "text"
      },
      "source": [
        "[View in Colaboratory](https://colab.research.google.com/github/christopher-ell/Deep_Learning_Begin/blob/master/pytorch_tutorials/OPT5_DeepLearning_for_NLP.ipynb)"
      ]
    },
    {
      "metadata": {
        "id": "7VlQ5ULYbcGI",
        "colab_type": "text"
      },
      "cell_type": "markdown",
      "source": [
        "Official Pytorch Tutorials - Deep Learning for NLP"
      ]
    },
    {
      "metadata": {
        "id": "wJtpv0oWixRZ",
        "colab_type": "text"
      },
      "cell_type": "markdown",
      "source": [
        "Source: https://pytorch.org/tutorials/beginner/deep_learning_nlp_tutorial.html"
      ]
    },
    {
      "metadata": {
        "id": "MCWgXFxPid7b",
        "colab_type": "code",
        "colab": {
          "base_uri": "https://localhost:8080/",
          "height": 139
        },
        "outputId": "187fc04c-0953-4ca2-8c29-53fe4717dde7"
      },
      "cell_type": "code",
      "source": [
        "## File created in Google colaboratory so need to download libraries and data on begin \n",
        "!pip install torch"
      ],
      "execution_count": 1,
      "outputs": [
        {
          "output_type": "stream",
          "text": [
            "Collecting torch\n",
            "\u001b[?25l  Downloading https://files.pythonhosted.org/packages/06/a7/6a173738dd6be014ebf9ba6f0b441d91b113b1506a98e10da4ff60994b54/torch-0.4.1-cp27-cp27mu-manylinux1_x86_64.whl (519.5MB)\n",
            "\u001b[K    100% |████████████████████████████████| 519.5MB 20kB/s \n",
            "tcmalloc: large alloc 1073750016 bytes == 0x55acccd4c000 @  0x7fa992d651c4 0x55ac72eca0d8 0x55ac72fb3d5d 0x55ac72edd77a 0x55ac72ee2462 0x55ac72edab3a 0x55ac72ee282e 0x55ac72edab3a 0x55ac72ee282e 0x55ac72edab3a 0x55ac72ee282e 0x55ac72edab3a 0x55ac72ee2e1f 0x55ac72edab3a 0x55ac72ee282e 0x55ac72edab3a 0x55ac72ee282e 0x55ac72ee2462 0x55ac72ee2462 0x55ac72edab3a 0x55ac72ee2e1f 0x55ac72ee2462 0x55ac72edab3a 0x55ac72ee2e1f 0x55ac72edab3a 0x55ac72ee2e1f 0x55ac72edab3a 0x55ac72ee282e 0x55ac72edab3a 0x55ac72f0b50f 0x55ac72f06202\n",
            "\u001b[?25hInstalling collected packages: torch\n",
            "Successfully installed torch-0.4.1\n"
          ],
          "name": "stdout"
        }
      ]
    },
    {
      "metadata": {
        "id": "SCteOt7yi_jI",
        "colab_type": "code",
        "colab": {
          "base_uri": "https://localhost:8080/",
          "height": 34
        },
        "outputId": "12ad1589-5c7b-40b8-8891-63933e0d07d7"
      },
      "cell_type": "code",
      "source": [
        "import torch\n",
        "import torch.autograd as autograd\n",
        "import torch.nn as nn\n",
        "import torch.nn.functional as F\n",
        "import torch.optim as optim\n",
        "\n",
        "torch.manual_seed(1)"
      ],
      "execution_count": 2,
      "outputs": [
        {
          "output_type": "execute_result",
          "data": {
            "text/plain": [
              "<torch._C.Generator at 0x7fe778de45d0>"
            ]
          },
          "metadata": {
            "tags": []
          },
          "execution_count": 2
        }
      ]
    },
    {
      "metadata": {
        "id": "9MFG6wAOjI6J",
        "colab_type": "text"
      },
      "cell_type": "markdown",
      "source": [
        "**Creating Tensors**\n",
        "\n",
        "- Tensors can be created from Python lists with the torch.Tensor() function"
      ]
    },
    {
      "metadata": {
        "id": "LIVQfGtdjLQX",
        "colab_type": "code",
        "colab": {
          "base_uri": "https://localhost:8080/",
          "height": 153
        },
        "outputId": "1d9a11c7-af28-46cd-d1b2-27063bfc5b35"
      },
      "cell_type": "code",
      "source": [
        "# torch.tensor(data) creates a torch.Tensor object with the given data.\n",
        "V_data = [1., 2., 3.]\n",
        "V = torch.tensor(V_data)\n",
        "print(V)\n",
        "\n",
        "# Creates a Matrix\n",
        "M_data = [[1., 2., 3.], [4., 5., 6.]]\n",
        "M = torch.tensor(M_data)\n",
        "print(M)\n",
        "\n",
        "# Create a 3D tensor of size 2x2x2.\n",
        "T_data = [[[1., 2.], [3., 4.]],\n",
        "         [[5., 6.], [7., 8.]]]\n",
        "T = torch.tensor(T_data)\n",
        "print(T)"
      ],
      "execution_count": 3,
      "outputs": [
        {
          "output_type": "stream",
          "text": [
            "tensor([1., 2., 3.])\n",
            "tensor([[1., 2., 3.],\n",
            "        [4., 5., 6.]])\n",
            "tensor([[[1., 2.],\n",
            "         [3., 4.]],\n",
            "\n",
            "        [[5., 6.],\n",
            "         [7., 8.]]])\n"
          ],
          "name": "stdout"
        }
      ]
    },
    {
      "metadata": {
        "id": "7T4l7wjTmNJJ",
        "colab_type": "code",
        "colab": {
          "base_uri": "https://localhost:8080/",
          "height": 102
        },
        "outputId": "2d3e49d6-a770-4658-b6a7-6042d02a81f4"
      },
      "cell_type": "code",
      "source": [
        "# Indexing into V and get a scalar (0 dimensional tensor)\n",
        "print(V[0])\n",
        "\n",
        "# Get a python number from it\n",
        "print(V[0].item())\n",
        "\n",
        "# Index into M and get a vector\n",
        "print(M[0])\n",
        "\n",
        "# Index into T and get a matrix\n",
        "print(T[0])"
      ],
      "execution_count": 4,
      "outputs": [
        {
          "output_type": "stream",
          "text": [
            "tensor(1.)\n",
            "1.0\n",
            "tensor([1., 2., 3.])\n",
            "tensor([[1., 2.],\n",
            "        [3., 4.]])\n"
          ],
          "name": "stdout"
        }
      ]
    },
    {
      "metadata": {
        "id": "rx-se2Rand_A",
        "colab_type": "code",
        "colab": {
          "base_uri": "https://localhost:8080/",
          "height": 255
        },
        "outputId": "902bfb2b-9080-49b0-f291-b28afe3556a9"
      },
      "cell_type": "code",
      "source": [
        "x = torch.randn((3, 4, 5))\n",
        "print(x)"
      ],
      "execution_count": 5,
      "outputs": [
        {
          "output_type": "stream",
          "text": [
            "tensor([[[-1.5256, -0.7502, -0.6540, -1.6095, -0.1002],\n",
            "         [-0.6092, -0.9798, -1.6091, -0.7121,  0.3037],\n",
            "         [-0.7773, -0.2515, -0.2223,  1.6871,  0.2284],\n",
            "         [ 0.4676, -0.6970, -1.1608,  0.6995,  0.1991]],\n",
            "\n",
            "        [[ 0.8657,  0.2444, -0.6629,  0.8073,  1.1017],\n",
            "         [-0.1759, -2.2456, -1.4465,  0.0612, -0.6177],\n",
            "         [-0.7981, -0.1316,  1.8793, -0.0721,  0.1578],\n",
            "         [-0.7735,  0.1991,  0.0457,  0.1530, -0.4757]],\n",
            "\n",
            "        [[-0.1110,  0.2927, -0.1578, -0.0288,  0.4533],\n",
            "         [ 1.1422,  0.2486, -1.7754, -0.0255, -1.0233],\n",
            "         [-0.5962, -1.0055,  0.4285,  1.4761, -1.7869],\n",
            "         [ 1.6103, -0.7040, -0.1853, -0.9962, -0.8313]]])\n"
          ],
          "name": "stdout"
        }
      ]
    },
    {
      "metadata": {
        "id": "XGlEy1QSol8-",
        "colab_type": "text"
      },
      "cell_type": "markdown",
      "source": [
        "**Operations with Tensors**\n",
        "- You can operate on your own tensors in ways you could expect"
      ]
    },
    {
      "metadata": {
        "id": "R6UYowdoowj1",
        "colab_type": "code",
        "colab": {
          "base_uri": "https://localhost:8080/",
          "height": 34
        },
        "outputId": "6fe45514-b964-4d43-9fc8-7dc1685a1853"
      },
      "cell_type": "code",
      "source": [
        "x = torch.tensor([1., 2., 3.])\n",
        "y = torch.tensor([4., 5., 6.])\n",
        "z = x + y\n",
        "print(z)"
      ],
      "execution_count": 6,
      "outputs": [
        {
          "output_type": "stream",
          "text": [
            "tensor([5., 7., 9.])\n"
          ],
          "name": "stdout"
        }
      ]
    },
    {
      "metadata": {
        "id": "vAn2lZSwpE-V",
        "colab_type": "code",
        "colab": {
          "base_uri": "https://localhost:8080/",
          "height": 136
        },
        "outputId": "a8b922bf-c139-466b-929a-fd8c3533db7d"
      },
      "cell_type": "code",
      "source": [
        "# By default, it concatenates along the first axis (concatinates rows)\n",
        "x_1 = torch.randn(2, 5)\n",
        "y_1 = torch.randn(3, 5)\n",
        "z_1 = torch.cat([x_1, y_1])\n",
        "print(z_1)\n",
        "\n",
        "# Concatenate columns:\n",
        "x_2 = torch.randn(2, 3)\n",
        "y_2 = torch.randn(2, 5)\n",
        "# Second arg specifies which axis to concat along\n",
        "z_2 = torch.cat([x_2, y_2], 1)\n",
        "print(z_2)\n",
        "\n",
        "# If your tensors are not compatible, torch will complain. Uncomment to see the \n",
        "# error \n",
        "# torch.cat([x_1, x_2])"
      ],
      "execution_count": 8,
      "outputs": [
        {
          "output_type": "stream",
          "text": [
            "tensor([[-1.6476,  0.8098,  0.0554,  1.1340, -0.5326],\n",
            "        [ 0.6592, -1.5964, -0.3769, -3.1020, -0.0995],\n",
            "        [-0.7213,  1.2708, -0.0020, -1.0952,  0.6016],\n",
            "        [ 0.6984, -0.8005,  1.5381,  1.4673,  1.5951],\n",
            "        [-1.5279,  1.0156, -0.2020, -1.2865,  0.8231]])\n",
            "tensor([[-0.6101, -1.2960, -0.9434,  1.8782, -0.5666,  0.4016, -0.1153,  0.3170],\n",
            "        [ 0.6684,  1.1628, -0.3229,  0.5629,  0.8662, -0.3528,  0.3482,  1.1371]])\n"
          ],
          "name": "stdout"
        }
      ]
    },
    {
      "metadata": {
        "id": "Pj9mSOt4q7wq",
        "colab_type": "text"
      },
      "cell_type": "markdown",
      "source": [
        "**Reshaping Tensors**\n",
        "- Use the .view() method to reshape tensors.\n",
        "- .view() is heavily used because many neural networks expect their inputs to have a certain shape"
      ]
    },
    {
      "metadata": {
        "id": "O4BYstxirV6Y",
        "colab_type": "code",
        "colab": {
          "base_uri": "https://localhost:8080/",
          "height": 272
        },
        "outputId": "30d2b2e5-e49d-47da-ab4d-f78d037b17a1"
      },
      "cell_type": "code",
      "source": [
        "x = torch.randn(2, 3, 4)\n",
        "print(x)\n",
        "print(x.view(2, 12)) # Reshape to 2 rows, 12 columns\n",
        "# Same as above. If one of the dimensions is -1, it's size can be inferred\n",
        "print(x.view(2, -1))"
      ],
      "execution_count": 9,
      "outputs": [
        {
          "output_type": "stream",
          "text": [
            "tensor([[[ 0.2151,  0.9385,  1.4657, -0.5565],\n",
            "         [-0.7448, -0.2022, -0.2297,  0.0013],\n",
            "         [-1.0257,  0.5213, -0.4531, -0.1260]],\n",
            "\n",
            "        [[ 2.3357, -0.6220, -0.1181, -1.4420],\n",
            "         [-0.9502, -0.3095,  1.6633,  0.5051],\n",
            "         [ 1.0407,  0.0806,  1.4273, -0.1825]]])\n",
            "tensor([[ 0.2151,  0.9385,  1.4657, -0.5565, -0.7448, -0.2022, -0.2297,  0.0013,\n",
            "         -1.0257,  0.5213, -0.4531, -0.1260],\n",
            "        [ 2.3357, -0.6220, -0.1181, -1.4420, -0.9502, -0.3095,  1.6633,  0.5051,\n",
            "          1.0407,  0.0806,  1.4273, -0.1825]])\n",
            "tensor([[ 0.2151,  0.9385,  1.4657, -0.5565, -0.7448, -0.2022, -0.2297,  0.0013,\n",
            "         -1.0257,  0.5213, -0.4531, -0.1260],\n",
            "        [ 2.3357, -0.6220, -0.1181, -1.4420, -0.9502, -0.3095,  1.6633,  0.5051,\n",
            "          1.0407,  0.0806,  1.4273, -0.1825]])\n"
          ],
          "name": "stdout"
        }
      ]
    },
    {
      "metadata": {
        "id": "6fdpdMB-s2JW",
        "colab_type": "text"
      },
      "cell_type": "markdown",
      "source": [
        "**Computation Graphs and Automatic Differentiation**\n",
        "- Computational graph important as it allows you to not have to write back propagation gradients yourself\n",
        "- A computational graph is a specification of how data is combined to give your output, so has enough information to compute derivatives\n",
        "- Can see what's going on using flag requires_grad\n",
        "\n",
        "- In the torch.tensor objects you have the data, shape and other things stored\n",
        "- When two tensors are added, we get an output tensor. All the output tensors knows is its data and shape. It has no idea it was the sum of the other two tensors\n",
        "- if requires_grad=True, the object keeps track of how it was created"
      ]
    },
    {
      "metadata": {
        "id": "vWytOphXunua",
        "colab_type": "code",
        "colab": {
          "base_uri": "https://localhost:8080/",
          "height": 51
        },
        "outputId": "8413dc06-963c-4ad5-beec-072f2ad2c22a"
      },
      "cell_type": "code",
      "source": [
        "# Tensor factory method have a \"requires_grad\" flag\n",
        "x = torch.tensor([1., 2., 3.], requires_grad=True)\n",
        "\n",
        "# With requires_grad=True, you can still do all the operations you previously \n",
        "# could\n",
        "y = torch.tensor([4., 5., 6.], requires_grad=True)\n",
        "z = x + y\n",
        "print(z)\n",
        "\n",
        "# But z knows something extra\n",
        "print(z.grad_fn)"
      ],
      "execution_count": 10,
      "outputs": [
        {
          "output_type": "stream",
          "text": [
            "tensor([5., 7., 9.], grad_fn=<ThAddBackward>)\n",
            "<ThAddBackward object at 0x7fe778d08bd0>\n"
          ],
          "name": "stdout"
        }
      ]
    },
    {
      "metadata": {
        "id": "LiOMVQyvv_dw",
        "colab_type": "code",
        "colab": {
          "base_uri": "https://localhost:8080/",
          "height": 51
        },
        "outputId": "e28440ee-d87a-4fba-9742-fcdea7f4368e"
      },
      "cell_type": "code",
      "source": [
        "# Lets sum all the entries in z\n",
        "s = z.sum()\n",
        "print(s)\n",
        "print(s.grad_fn)"
      ],
      "execution_count": 11,
      "outputs": [
        {
          "output_type": "stream",
          "text": [
            "tensor(21., grad_fn=<SumBackward0>)\n",
            "<SumBackward0 object at 0x7fe778d08dd0>\n"
          ],
          "name": "stdout"
        }
      ]
    },
    {
      "metadata": {
        "id": "usTxVihgzZ2w",
        "colab_type": "code",
        "colab": {
          "base_uri": "https://localhost:8080/",
          "height": 34
        },
        "outputId": "6923d5e9-96e7-4be1-ccc8-34ae59bd8972"
      },
      "cell_type": "code",
      "source": [
        "# Calling .backward() on any variable will run backprop, starting from it.\n",
        "s.backward()\n",
        "print(x.grad)"
      ],
      "execution_count": 12,
      "outputs": [
        {
          "output_type": "stream",
          "text": [
            "tensor([1., 1., 1.])\n"
          ],
          "name": "stdout"
        }
      ]
    },
    {
      "metadata": {
        "id": "o7ZKoEdK2bs7",
        "colab_type": "code",
        "colab": {
          "base_uri": "https://localhost:8080/",
          "height": 102
        },
        "outputId": "6820bcb3-2b76-4789-938a-1cfa51166a15"
      },
      "cell_type": "code",
      "source": [
        "x = torch.randn(2, 2)\n",
        "y = torch.randn(2, 2)\n",
        "# By default, user created Tensors have \"requires_grad=False\"\n",
        "print(x.requires_grad, y.requires_grad)\n",
        "z = x + y\n",
        "# So you can't backprop through z\n",
        "print(z.grad_fn)\n",
        "\n",
        "# \".requires_grad( ... )\" changes an existing Tensor's \"requires_grad\"\n",
        "# flag in place. The input flag defaults to \"True\" if not given.\n",
        "x = x.requires_grad_()\n",
        "y = y.requires_grad_()\n",
        "# z contains enough information to compute gradients, as we saw above\n",
        "z = x + y\n",
        "print(z.grad_fn)\n",
        "# If any input to an operation has \"requires_grad=True\", so will the output\n",
        "print(z.requires_grad)\n",
        "\n",
        "# Now z has the computation history that relates itself to x and y\n",
        "# Can we just take it's values, and **detach** it from its history\n",
        "new_z = z.detach()\n",
        "\n",
        "# ... does new_z have information to backprop to x and y?\n",
        "# NO!\n",
        "print(new_z.grad_fn)\n",
        "# and how could it? \"z.detach()\" returns a tensor that shares the same storage \n",
        "# as \"z\", but with the computation history forgotten. It doesn't know anything\n",
        "# about how it was computed.\n",
        "# In essence, we have broken the Tensor away from its past history."
      ],
      "execution_count": 13,
      "outputs": [
        {
          "output_type": "stream",
          "text": [
            "(False, False)\n",
            "None\n",
            "<ThAddBackward object at 0x7fe747f96ad0>\n",
            "True\n",
            "None\n"
          ],
          "name": "stdout"
        }
      ]
    },
    {
      "metadata": {
        "id": "ocGo9CSV7B4C",
        "colab_type": "code",
        "colab": {
          "base_uri": "https://localhost:8080/",
          "height": 68
        },
        "outputId": "0c23d262-4c22-4562-95d0-c07fc8c0c17c"
      },
      "cell_type": "code",
      "source": [
        "print(x.requires_grad)\n",
        "print((x**2).requires_grad)\n",
        "\n",
        "with torch.no_grad():\n",
        "  print((x**2).requires_grad)"
      ],
      "execution_count": 14,
      "outputs": [
        {
          "output_type": "stream",
          "text": [
            "True\n",
            "True\n",
            "False\n"
          ],
          "name": "stdout"
        }
      ]
    },
    {
      "metadata": {
        "id": "x3dl5_Vik31f",
        "colab_type": "text"
      },
      "cell_type": "markdown",
      "source": [
        "**Deep Learning with Pytorch**"
      ]
    },
    {
      "metadata": {
        "id": "k8G39Sxx7tUo",
        "colab_type": "code",
        "colab": {
          "base_uri": "https://localhost:8080/",
          "height": 85
        },
        "outputId": "fd8694ab-22e8-4143-efed-47784c376eaa"
      },
      "cell_type": "code",
      "source": [
        "lin = nn.Linear(5,3) # Maps from R^5 to R^3, parameters A, b\n",
        "# data is 2x5. A maps from 5 to 3... can we map data under A\n",
        "data = torch.randn(2, 5)\n",
        "print(data)\n",
        "print(lin(data)) # Yes"
      ],
      "execution_count": 15,
      "outputs": [
        {
          "output_type": "stream",
          "text": [
            "tensor([[-0.9699, -0.9469, -0.2330,  0.6424,  0.0899],\n",
            "        [ 1.4849,  0.0087, -0.4798,  0.9808,  0.2786]])\n",
            "tensor([[-0.0407, -0.4255,  0.0878],\n",
            "        [-0.5352, -0.6600, -0.4421]], grad_fn=<ThAddmmBackward>)\n"
          ],
          "name": "stdout"
        }
      ]
    },
    {
      "metadata": {
        "id": "z6edkPQck-i9",
        "colab_type": "code",
        "colab": {
          "base_uri": "https://localhost:8080/",
          "height": 85
        },
        "outputId": "ce8a0d90-aaed-4fd9-bc4d-9433ddc3455d"
      },
      "cell_type": "code",
      "source": [
        "# In pytorch most non-Linearities are in torch.functional (we have it imported as F)\n",
        "# Note non-linearities typically don't have parameters like affine maps do.\n",
        "# That is, they don't have weights that are updated by training.\n",
        "data = torch.randn(2,2)\n",
        "print(data)\n",
        "print(F.relu(data))"
      ],
      "execution_count": 16,
      "outputs": [
        {
          "output_type": "stream",
          "text": [
            "tensor([[1.6559, 0.3677],\n",
            "        [2.5169, 0.1226]])\n",
            "tensor([[1.6559, 0.3677],\n",
            "        [2.5169, 0.1226]])\n"
          ],
          "name": "stdout"
        }
      ]
    },
    {
      "metadata": {
        "id": "kB6jLHMlneEJ",
        "colab_type": "code",
        "colab": {
          "base_uri": "https://localhost:8080/",
          "height": 85
        },
        "outputId": "8ef67121-195d-4ffd-be71-a3180597f1fd"
      },
      "cell_type": "code",
      "source": [
        "data = torch.randn(5)\n",
        "print(data)\n",
        "print(F.softmax(data, dim=0))\n",
        "print(F.softmax(data, dim=0).sum()) # Sums to 1 because it is a distribution\n",
        "print(F.log_softmax(data, dim=0)) # Theres also log_softmax"
      ],
      "execution_count": 17,
      "outputs": [
        {
          "output_type": "stream",
          "text": [
            "tensor([-0.3431, -0.8052, -0.8996, -0.1665, -1.2544])\n",
            "tensor([0.2633, 0.1659, 0.1509, 0.3141, 0.1058])\n",
            "tensor(1.)\n",
            "tensor([-1.3346, -1.7967, -1.8910, -1.1580, -2.2459])\n"
          ],
          "name": "stdout"
        }
      ]
    },
    {
      "metadata": {
        "id": "8DblPyNZqESU",
        "colab_type": "code",
        "colab": {
          "base_uri": "https://localhost:8080/",
          "height": 275
        },
        "outputId": "f89b7040-7267-4939-e4c6-0e13e53fe902"
      },
      "cell_type": "code",
      "source": [
        "data = [(\"me gusta comer en la cafeteria\".split(), \"SPANISH\"),\n",
        "       (\"Give it to me\".split(), \"ENGLISH\"),\n",
        "       (\"No creo que sea una buena idea\".split(), \"SPANISH\"),\n",
        "       (\"No it is not a good idea to get lost at sea\".split(), \"ENGLISH\")]\n",
        "\n",
        "test_data = [(\"Yo creo que si\".split(), \"SPANISH\"),\n",
        "            (\"it is lost on me\".split(), \"ENGLISH\")]\n",
        "\n",
        "# word_to_ix maps each word in the vocab to a unique integer, which will be its\n",
        "# index into the bag of words vector\n",
        "word_to_ix = {}\n",
        "for sent, _ in data + test_data:\n",
        "  for word in sent:\n",
        "    if word not in word_to_ix:\n",
        "      word_to_ix[word] = len(word_to_ix)\n",
        "\n",
        "print(word_to_ix)\n",
        "\n",
        "VOCAB_SIZE = len(word_to_ix)\n",
        "NUM_LABELS = 2\n",
        "\n",
        "\n",
        "class BoWClassifier(nn.Module):   # inheriting from nn.Module\n",
        "  \n",
        "  def __init__(self, num_labels, vocab_size):\n",
        "    # Calls the init function of nn.Module. Dont get confused by syntax,\n",
        "    # just always do it in an nn.Module\n",
        "    super(BoWClassifier, self).__init__()\n",
        "    \n",
        "    # Define the parameters that you will need. In this case, we need A and b,\n",
        "    # the parameters of the affine mapping.\n",
        "    # Torch defines nn.Linear(), which provides the affine map.\n",
        "    # Make sure you understand why the input dimension is vocab_size\n",
        "    # and the output is num_labels!\n",
        "    self.linear = nn.Linear(vocab_size, num_labels)\n",
        "    \n",
        "    # NOTE: The non-linearity log softmax does not have parameters! So we don't need \n",
        "    # to worry about that here. \n",
        "    \n",
        "  def forward(self, bow_vec):\n",
        "    # Pass the input through the linear layer, \n",
        "    # then pass that through log_softmax.\n",
        "    # Many non-linearities and other functions are in torch.nn.functional\n",
        "    return F.log_softmax(self.linear(bow_vec), dim=1)\n",
        "    \n",
        "def make_bow_vector(sentence, word_to_ix):\n",
        "  vec = torch.zeros(len(word_to_ix))\n",
        "  for word in sentence:\n",
        "    vec[word_to_ix[word]] += 1\n",
        "  return vec.view(1, -1)\n",
        "    \n",
        "def make_target(labels, label_to_ix):\n",
        "  return torch.LongTensor([label_to_ix[label]])\n",
        "    \n",
        "model = BoWClassifier(NUM_LABELS, VOCAB_SIZE)\n",
        "\n",
        "# The model knows its parameters. The first output below is A, the second is b.\n",
        "# Whenever you assign a component to a class variable in the __init__ function\n",
        "# of a module, which was done with the line.\n",
        "# Then through some Python magic from the Pytorch devs, your module\n",
        "# (in this case, BoWClassifier) will store knowledge of the nn.linear's parameters\n",
        "for param in model.parameters():\n",
        "  print(param)\n",
        "  \n",
        "# To run the model, pass in the BoW vector\n",
        "# Here we don't need to train, so the code is wrapped in torch.no_grad()\n",
        "with torch.no_grad():\n",
        "  sample = data[0]\n",
        "  bow_vector = make_bow_vector(sample[0], word_to_ix)\n",
        "  log_probs = model(bow_vector)\n",
        "  print(log_probs)"
      ],
      "execution_count": 17,
      "outputs": [
        {
          "output_type": "stream",
          "text": [
            "{'en': 3, 'No': 9, 'buena': 14, 'it': 7, 'at': 22, 'sea': 12, 'cafeteria': 5, 'Yo': 23, 'la': 4, 'to': 8, 'creo': 10, 'is': 16, 'a': 18, 'good': 19, 'get': 20, 'idea': 15, 'que': 11, 'not': 17, 'me': 0, 'on': 25, 'gusta': 1, 'lost': 21, 'Give': 6, 'una': 13, 'si': 24, 'comer': 2}\n",
            "Parameter containing:\n",
            "tensor([[ 0.0555,  0.0597,  0.0466,  0.1627, -0.0815, -0.0828, -0.1699,\n",
            "         -0.0080, -0.0929,  0.0079, -0.0402,  0.0651,  0.1697,  0.0579,\n",
            "         -0.0632, -0.0962, -0.1710,  0.1650, -0.0372,  0.0396,  0.0073,\n",
            "         -0.1250,  0.1104,  0.1099,  0.0099, -0.1115],\n",
            "        [-0.0833,  0.0027, -0.1120, -0.1094, -0.0293, -0.0565,  0.0481,\n",
            "         -0.0515, -0.0260, -0.0749, -0.1792,  0.1710,  0.0374,  0.1754,\n",
            "         -0.0316, -0.0493, -0.1844, -0.0744,  0.1286, -0.1921, -0.0686,\n",
            "          0.1195,  0.1130,  0.0724, -0.0388, -0.0148]])\n",
            "Parameter containing:\n",
            "tensor(1.00000e-02 *\n",
            "       [-3.7244, -7.2296])\n",
            "tensor([[-0.4435, -1.0266]])\n"
          ],
          "name": "stdout"
        }
      ]
    },
    {
      "metadata": {
        "id": "5NLZnNGxxooJ",
        "colab_type": "code",
        "colab": {}
      },
      "cell_type": "code",
      "source": [
        "label_to_ix = {\"SPANISH\": 0, \"ENGLISH\": 1}"
      ],
      "execution_count": 0,
      "outputs": []
    },
    {
      "metadata": {
        "id": "MvSB4iUnkLBS",
        "colab_type": "code",
        "colab": {
          "base_uri": "https://localhost:8080/",
          "height": 119
        },
        "outputId": "72fe601e-46dd-44c9-9e53-e063adc6520a"
      },
      "cell_type": "code",
      "source": [
        "# Run on test data before we train, just to see a before-and-after\n",
        "with torch.no_grad():\n",
        "  for instance, label in test_data:\n",
        "    bow_vec = make_bow_vector(instance, word_to_ix)\n",
        "    log_probs = model(bow_vec)\n",
        "    print(log_probs)\n",
        "    \n",
        "# Print the matrix column corresponding to \"creo\"\n",
        "print(next(model.parameters())[:, word_to_ix[\"creo\"]])\n",
        "\n",
        "loss_function = nn.NLLLoss()\n",
        "optimiser = optim.SGD(model.parameters(), lr=0.1)\n",
        "\n",
        "# Usually you want to pass over the training data several times.\n",
        "# 100 is much bigger than on a real data set, but real datasets have more than\n",
        "# two instances. Usually, somewhere between 5 and 30 epochs is reasonable.\n",
        "for epoch in range(100):\n",
        "  for instance, label in data:\n",
        "    # Step 1: Remember that Pytorch accumulates gradients.\n",
        "    # We need to clear them out before each instance \n",
        "    model.zero_grad()\n",
        "    \n",
        "    # Step 2: Make our BOW vector and also we must wrap the target in a\n",
        "    # tensor as an integer. For example, if the target is SPANISH, then\n",
        "    # we wrap the integer 0. The loss function then knows that the 0th\n",
        "    # element of the log probabilities is the log probabilities \n",
        "    # corresponding to SPANISH\n",
        "    bow_vec = make_bow_vector(instance, word_to_ix)\n",
        "    target = make_target(label, label_to_ix)\n",
        "    \n",
        "    # Step 3: Run our forward pass\n",
        "    log_probs = model(bow_vec)\n",
        "    \n",
        "    # Step 4: Compute the loss, gradients, and update the parameters by\n",
        "    # calling optimiser.step()\n",
        "    loss = loss_function(log_probs, target)\n",
        "    loss.backward()\n",
        "    optimiser.step()\n",
        "\n",
        "with torch.no_grad():\n",
        "  for instance, label in test_data:\n",
        "    bow_vec = make_bow_vector(instance, word_to_ix)\n",
        "    log_probs = model(bow_vec)\n",
        "    print(log_probs)\n",
        "    \n",
        "# Index corresponding to Spanish goes up, English goes down!\n",
        "print(next(model.parameters())[:, word_to_ix[\"creo\"]])"
      ],
      "execution_count": 20,
      "outputs": [
        {
          "output_type": "stream",
          "text": [
            "tensor([[-0.1241, -2.1481]])\n",
            "tensor([[-2.9001, -0.0566]])\n",
            "tensor([ 0.3966, -0.6160])\n",
            "tensor([[-0.0963, -2.3881]])\n",
            "tensor([[-3.2660, -0.0389]])\n",
            "tensor([ 0.4581, -0.6775])\n"
          ],
          "name": "stdout"
        }
      ]
    },
    {
      "metadata": {
        "id": "-6nbpBMdSMaN",
        "colab_type": "text"
      },
      "cell_type": "markdown",
      "source": [
        "**Word Embeddings: Encoding Lexical Semantics**"
      ]
    },
    {
      "metadata": {
        "id": "gc3LrB4QSU9y",
        "colab_type": "code",
        "colab": {
          "base_uri": "https://localhost:8080/",
          "height": 34
        },
        "outputId": "3b181cee-368b-47d3-d714-372fc6c6afeb"
      },
      "cell_type": "code",
      "source": [
        "word_to_ix = {\"hello\": 0, \"world\": 1}\n",
        "embeds = nn.Embedding(2, 5) #2 words in vocab, 5 dimensional embeddings\n",
        "lookup_tensor = torch.tensor([word_to_ix[\"hello\"]], dtype=torch.long)\n",
        "hello_embed = embeds(lookup_tensor)\n",
        "print(hello_embed)"
      ],
      "execution_count": 21,
      "outputs": [
        {
          "output_type": "stream",
          "text": [
            "tensor([[-0.8120, -1.4617,  0.2328,  0.1896, -0.2204]])\n"
          ],
          "name": "stdout"
        }
      ]
    },
    {
      "metadata": {
        "id": "8Xxpqm9-W04-",
        "colab_type": "code",
        "colab": {
          "base_uri": "https://localhost:8080/",
          "height": 51
        },
        "outputId": "98bd5efa-0f07-4105-cb3d-0d853dbeb39e"
      },
      "cell_type": "code",
      "source": [
        "CONTEXT_SIZE = 2\n",
        "EMBEDDING_DIM = 10\n",
        "# We will use Shakespeare Sonnet 2\n",
        "test_sentence = \"\"\"When forty winters shall besiege thy brow,\n",
        "And dig deep trenches in thy beauty's field,\n",
        "Thy youth's proud livery so gazed on now,\n",
        "Will be a totter'd weed of small worth held:\n",
        "Then being asked, where all thy beauty lies,\n",
        "Where all the treasure of thy lusty days;\n",
        "To say, within thine own deep sunken eyes,\n",
        "Were an all-eating shame, and thriftless praise.\n",
        "How much more praise deserv'd thy beauty's use,\n",
        "If thou couldst answer 'This fair child of mine\n",
        "Shall sum my count, and make my old excuse,'\n",
        "Proving his beauty by succession thine!\n",
        "This were to be new made when thou art old,\n",
        "And see thy blood warm when thou feel'st it cold.\"\"\".split()\n",
        "\n",
        "# We should tokenize the input, but we will ignore that for now\n",
        "# build a list of tuples. Each tuple is ([word_i-2, word_i-1], target word)\n",
        "trigrams = [([test_sentence[i], test_sentence[i + 1]], test_sentence[i + 2])\n",
        "           for i in range(len(test_sentence) - 2)]\n",
        "# print the first 3, just so you can see what they look like\n",
        "print(trigrams[:3])\n",
        "\n",
        "vocab = set(test_sentence)\n",
        "word_to_ix = {word: i for i, word in enumerate(vocab)}\n",
        "\n",
        "class NGramLanguageModeler(nn.Module):\n",
        "  \n",
        "  def __init__(self, vocab_size, embedding_dim, context_size):\n",
        "    super(NGramLanguageModeler, self).__init__()\n",
        "    self.embeddings = nn.Embedding(vocab_size, embedding_dim)\n",
        "    self.linear1 = nn.Linear(context_size * embedding_dim, 128)\n",
        "    self.linear2 = nn.Linear(128, vocab_size)\n",
        "    \n",
        "  def forward(self, inputs):\n",
        "    embeds = self.embeddings(inputs).view((1, -1))\n",
        "    out = F.relu(self.linear1(embeds))\n",
        "    out = self.linear2(out)\n",
        "    log_probs = F.log_softmax(out, dim=1)\n",
        "    return log_probs\n",
        "\n",
        "losses = []\n",
        "loss_function = nn.NLLLoss()\n",
        "model = NGramLanguageModeler(len(vocab), EMBEDDING_DIM, CONTEXT_SIZE)\n",
        "optimiser = optim.SGD(model.parameters(), lr=0.001)\n",
        "\n",
        "for epoch in range(10):\n",
        "  total_loss = 0\n",
        "  for context, target in trigrams:\n",
        "    \n",
        "    # Step 1. Prepare the inputs to be passed to the model (i.e. turn the words\n",
        "    # into integer indicies and wrap them in tensors)\n",
        "    context_idxs = torch.tensor([word_to_ix[w] for w in context], dtype=torch.long)\n",
        "    \n",
        "    # Step 2. Recall that torch *accumulates* gradients. Before passing in a \n",
        "    # new instance, you need to zero out the gradients from the old \n",
        "    # instance.\n",
        "    model.zero_grad()\n",
        "    \n",
        "    # Step 3. Run the forward pass, getting log probabilities over next\n",
        "    # words\n",
        "    log_probs = model(context_idxs)\n",
        "    \n",
        "    # Step 4. Compute your loss function (Again, torch wants the target \n",
        "    # word wrapped in a tensor)\n",
        "    loss = loss_function(log_probs, torch.tensor([word_to_ix[target]], dtype=torch.long))\n",
        "    \n",
        "    # Step 5. Do the backward pass and update the gradient\n",
        "    loss.backward()\n",
        "    optimiser.step()\n",
        "    \n",
        "    # Get the Python number from a 1-element tensor by calling tensor.item()\n",
        "    total_loss += loss.item()\n",
        "  losses.append(total_loss)\n",
        "print(losses) # The loss decreased every iteration over the training data."
      ],
      "execution_count": 22,
      "outputs": [
        {
          "output_type": "stream",
          "text": [
            "[(['When', 'forty'], 'winters'), (['forty', 'winters'], 'shall'), (['winters', 'shall'], 'besiege')]\n",
            "[520.4770021438599, 518.2286944389343, 515.9942712783813, 513.7714688777924, 511.5611457824707, 509.3623847961426, 507.1738293170929, 504.99530386924744, 502.826940536499, 500.66790437698364]\n"
          ],
          "name": "stdout"
        }
      ]
    },
    {
      "metadata": {
        "id": "O1xELiMi2imM",
        "colab_type": "code",
        "colab": {
          "base_uri": "https://localhost:8080/",
          "height": 51
        },
        "outputId": "745c4449-1d61-462c-91c4-332de028991f"
      },
      "cell_type": "code",
      "source": [
        "## NEED TO FINISH EXERCISE\n",
        "\n",
        "CONTEXT_SIZE = 2 # 2 words to the left and 2 words to the right\n",
        "raw_text = \"\"\"We are about to study the idea of a computational process.\n",
        "Computational processes are abstract beings that inhabit computers.\n",
        "As they evolve, processes manipulate other abstract things called data.\n",
        "The evolution of a process is directed by a pattern of rules\n",
        "called a program. People create programs to direct processes. In effect,\n",
        "we conjure the spirits of the computer with our spells.\"\"\".split()\n",
        "\n",
        "# By deriving a set from \"raw_text,\" we deduplicate the array\n",
        "vocab = set(raw_text)\n",
        "vocab_size = len(vocab)\n",
        "\n",
        "word_to_ix = {word: i for i, word in enumerate(vocab)}\n",
        "data = []\n",
        "for i in range(2, len(raw_text) - 2):\n",
        "  context = [raw_text[i - 2], raw_text[i - 1], \n",
        "             raw_text[i + 1], raw_text[i + 2]]\n",
        "  target = raw_text[i]\n",
        "  data.append((context, target))\n",
        "print(data[:5])\n",
        "\n",
        "class CBOW(nn.Module):\n",
        "  \n",
        "  def __init__(self):\n",
        "    pass\n",
        "  \n",
        "  def forward(self, inputs):\n",
        "    pass\n",
        "  \n",
        "  \n",
        "# Create the model and train. Here are some functions to make the data ready \n",
        "# for use by your module.\n",
        "\n",
        "def make_context_vector(context, word_to_ix):\n",
        "  idxs = [word_to_ix[w] for w in context]\n",
        "  return torch.tensor(idxs, dtype=torch.long)\n",
        "\n",
        "make_context_vector(data[0][0], word_to_ix) # example\n",
        "  "
      ],
      "execution_count": 24,
      "outputs": [
        {
          "output_type": "stream",
          "text": [
            "[(['We', 'are', 'to', 'study'], 'about'), (['are', 'about', 'study', 'the'], 'to'), (['about', 'to', 'the', 'idea'], 'study'), (['to', 'study', 'idea', 'of'], 'the'), (['study', 'the', 'of', 'a'], 'idea')]\n"
          ],
          "name": "stdout"
        },
        {
          "output_type": "execute_result",
          "data": {
            "text/plain": [
              "tensor([ 13,   7,  18,  42])"
            ]
          },
          "metadata": {
            "tags": []
          },
          "execution_count": 24
        }
      ]
    },
    {
      "metadata": {
        "id": "Dx2fYYQvV15V",
        "colab_type": "text"
      },
      "cell_type": "markdown",
      "source": [
        "**Sequence Models and Long-Short Term Memory Models**"
      ]
    },
    {
      "metadata": {
        "id": "3RXwbjmIV9f9",
        "colab_type": "code",
        "colab": {
          "base_uri": "https://localhost:8080/",
          "height": 187
        },
        "outputId": "7ae01cf9-996d-4406-9cc6-3e35e7621e40"
      },
      "cell_type": "code",
      "source": [
        "lstm = nn.LSTM(3, 3) # Input dim is 3, output dim is 3\n",
        "inputs = [torch.randn(1, 3) for _ in range(5)] # Make a sequence of length 5\n",
        "\n",
        "# Initialise the hidden state.\n",
        "hidden = (torch.randn(1, 1, 3),\n",
        "          torch.randn(1, 1, 3))\n",
        "for i in inputs:\n",
        "  # Step through the sequence one element at a time\n",
        "  # after each step, hidden contains the hidden state\n",
        "  out, hidden = lstm(i.view(1, 1, -1), hidden)\n",
        "  \n",
        "# Alternatively, we can do the entire sequence all at once.\n",
        "# the first value returned by lstm is all of the hidden states throughout\n",
        "# the sequnce. The second is just the most recent hidden state\n",
        "# (compare the last slice of \"out\" with \"hidden\" below, they are the same)\n",
        "# The reason for that is that:\n",
        "# \"out\" will; give you access to all hidden states in a sequence\n",
        "# hidden will allow you to continue the sequence and backpropagate,\n",
        "# by passing it as an argument to the lstm at a later time\n",
        "# Add the extra second dimension\n",
        "inputs = torch.cat(inputs).view(len(inputs), 1, -1)\n",
        "hidden = (torch.randn(1, 1, 3), torch.randn(1, 1, 3)) # clean out hidden state\n",
        "out, hidden = lstm(inputs, hidden)\n",
        "print(out)\n",
        "print(hidden)"
      ],
      "execution_count": 24,
      "outputs": [
        {
          "output_type": "stream",
          "text": [
            "tensor([[[-0.0955, -0.2526, -0.2748]],\n",
            "\n",
            "        [[-0.3970, -0.0469, -0.1467]],\n",
            "\n",
            "        [[-0.1144, -0.0950, -0.1793]],\n",
            "\n",
            "        [[-0.0543,  0.0513, -0.1117]],\n",
            "\n",
            "        [[-0.2153,  0.0141, -0.1913]]])\n",
            "(tensor([[[-0.2153,  0.0141, -0.1913]]]), tensor([[[-0.5291,  0.0546, -0.3974]]]))\n"
          ],
          "name": "stdout"
        }
      ]
    },
    {
      "metadata": {
        "id": "bQdVUBVcjZ4X",
        "colab_type": "code",
        "colab": {}
      },
      "cell_type": "code",
      "source": [
        ""
      ],
      "execution_count": 0,
      "outputs": []
    }
  ]
}